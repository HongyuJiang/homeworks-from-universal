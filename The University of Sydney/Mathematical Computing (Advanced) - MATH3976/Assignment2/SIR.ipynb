{
  "nbformat": 4,
  "nbformat_minor": 0,
  "metadata": {
    "kernelspec": {
      "name": "python3",
      "display_name": "Python 3",
      "language": "python"
    },
    "colab": {
      "name": "SIR.ipynb",
      "provenance": [],
      "collapsed_sections": []
    }
  },
  "cells": [
    {
      "cell_type": "markdown",
      "metadata": {
        "id": "VGKH1CPr4LZa"
      },
      "source": [
        "# **Assignment 2: Epidemic modelling**\n",
        "\n",
        "<br>\n",
        "\n",
        "<h2><center><b> Due: 11:59PM, 6 June 2021 (SUNDAY). </b></center></h2>\n",
        "\n",
        "<br>\n",
        "\n",
        "<h2><center><b> MATH 3076, 3976, 4076 </b></center></h2>\n",
        "\n",
        "<br>\n",
        "\n",
        "<br>\n",
        "\n",
        "### HONESTY IS THE BEST POLICY\n",
        "\n",
        "\n",
        "* **0) Cite any material (*code or information*) you use from the Internet or any other source. You can do this in comments in your code or separate Markdown cells.**\n",
        "\n",
        "\n",
        "\n",
        "* **1) Everyone must submit their own notebook.**\n",
        "\n",
        "\n",
        "* **2) Feel free to work in groups. It's more fun and more effective. However, if you do work in groups, you must state the people you worked with here:**\n"
      ]
    },
    {
      "cell_type": "code",
      "metadata": {
        "id": "tDknRQBw4LZe"
      },
      "source": [
        "### TEST FUNCTION: test_team_members\n",
        "### LIST TEAM HERE ###\n",
        "\n",
        "Team_List = ['Last_Name, First_Name']"
      ],
      "execution_count": null,
      "outputs": []
    },
    {
      "cell_type": "markdown",
      "metadata": {
        "id": "ekb61gYV4LZf"
      },
      "source": [
        "<h3><center> You can use literally any source, as long as you cite things properly. </center></h3>"
      ]
    },
    {
      "cell_type": "markdown",
      "metadata": {
        "id": "LNRTvZ8e4LZg"
      },
      "source": [
        "### SAFETY FIRST\n",
        "\n",
        "* **3) Make sure to save your work. FREQUENTLY.**\n",
        "\n",
        "* **4) If you use too much memory, you may be unable to open your notebook. If you crash your notebook, make sure to DOWNLOAD your workspace before resetting anything.**\n",
        "\n",
        "<br>\n",
        "\n",
        "### MARKING GUIDELINES\n",
        "\n",
        "* **5) Each sub TASK will have detailed instructions. Read these and the mathematical background carefully.**\n",
        "\n",
        "\n",
        "* **6) TEST your results EXTENSIVELY. You can check against the Examples but also check with lots of different inputs.**\n",
        "\n",
        "\n",
        "* **7) I will make sure your code runs without errors and gives the correct results in a reasonable amount of time. I do not care about the fine details of how you get it to work. I only care about the output, not the specific implementation.**\n",
        "\n",
        "\n",
        "* **8) Getting part of a function working is better than getting nothing. For example, I will check if functions give correct answers for correct inputs. And I will check to see if functions give proper error messages with invalid input. But getting correct answers with correct input is more important than handling errors.**\n",
        "\n",
        "\n",
        "* **9) I will expect correct results to machine roundoff. Roughly smaller than `1e-14`.**\n",
        "\n",
        "\n",
        "* **10) All section MATH3076/3976/4076 must complete all the TASKS in this notebook.**\n",
        "\n",
        "\n",
        "<br>\n",
        "\n",
        "\n",
        "## **MARKING DIRECTIVES:** \n",
        "\n",
        "-------------------\n",
        "\n",
        "**Your assignments should have 3 types of cells:**\n",
        "\n",
        "**1. \"Markdown\" type cells (like this one) that contain everything that isn't your code.**\n",
        "\n",
        "**2. \"Code\" type cells with a heading like the following:**\n",
        "\n",
        "`### TEST FUNCTION: test_function_name`\n",
        "\n",
        "`# DO NOT REMOVE ANYTHING IN THIS CELL`\n",
        "\n",
        "**These are the ONLY cells that will be marked. This is where you put your code.**\n",
        "\n",
        "**Each TASK has a unique name (e.g. `test_function_name`) that is required for that TASK.**\n",
        "\n",
        "**3. \"Code\" type cells with the heading:**\n",
        "\n",
        "`### SKIP`\n",
        "\n",
        "`# This code will not be marked.`\n",
        "\n",
        "**Put any testing in these types of cells.**\n",
        "\n",
        "**Do not create any other types of cells. This is equivalent to submitting in a clean handwritten assignment.**\n",
        "\n",
        "**If you create any new cells for marking, you MUST include the same `###SKIP` comment at the top.**\n",
        "\n",
        "-------------------\n",
        "\n",
        "**You will lose marks if you don't obey the above rules.** \n",
        "\n",
        "\n",
        "**You will get 0 marks for a question that isn't in the correct `### TEST FUNCTION` cell.**\n",
        "\n",
        "\n",
        "**You will get 0 marks for a question if you change the required function interface.**\n",
        "\n",
        "\n",
        "**You will get 0 marks for a question if you return more data than the instructions ask for.**\n",
        "\n",
        "\n",
        "**The \"Mark\" button is needed to log the submission time for your assignment. Make sure to press it when you want to submit. It won't do anything else until after the due date.**\n",
        "\n",
        "\n",
        "**Do not submit your assignment after the deadline. Otherwise, it will be late.**\n",
        "\n",
        "\n",
        "**No late submissions will be counted without special considerations.**\n",
        "\n",
        "\n",
        "**Do not \"Reset to Scaffold\" after the deadline. Your work may be lost.**\n",
        "\n",
        "<br>\n",
        "\n",
        "### Otherwise, have fun and good luck!\n",
        "\n",
        "<br>"
      ]
    },
    {
      "cell_type": "markdown",
      "metadata": {
        "id": "n4mmwQzm4LZh"
      },
      "source": [
        "# **Background**\n",
        "\n",
        "It so happens that we are (still) living through one of the more extraordinary times in the past century. I thought it would be especially relevant for everyone to know something about the phenomena that got us here in the first place. \n",
        "\n",
        "It turns out there is an upside to everything. In normal years, this assignment at least partially considers numerically solving ordinary differential equations (ODEs). So let's use this opportunity to discuss solving ODEs with one of the most important systems of equations in the world right now (maybe it's *the* most important set of equations in the world right now). This was all a bit more true a year ago. But it's still pretty true now. \n",
        "\n",
        "\n",
        "# **Susceptible-Infected-Recovered (SIR) models:**\n",
        "\n",
        "\n",
        "We start with the simplest possible model of an epidemic; the famous \"SIR\" model. This kind of modelling started in the 1930s, when A.G. McKendrick (a Scottish military doctor) and W.O. Kermack (a biochemist) produced their mathematical model. They originally considered all kinds of things like birth/death, different age groups, and migration. We will simplify things as much as possible to get an idea of how things work.\n",
        "\n",
        "The assumptions are the following:\n",
        "\n",
        "\n",
        "\n",
        "* We suppose there is a closed population with a large number $N\\to \\infty$ of individuals. \n",
        "\n",
        "\n",
        "* Within this population, we suppose the presence of an \"infection\". This could be something bad, like a disease. Or it could be something good, like deciding to get a vaccine.  \n",
        "\n",
        "* We split the population into three groups. \n",
        "\n",
        "  **Susceptible:** people who can catch the infection. \n",
        "   \n",
        "  **Infected:** people who currently have the infection. \n",
        "   \n",
        "  **\"Recovered\"/\"Removed\":** people who are no longer contagious.\n",
        "   \n",
        "It's possible to consider more subtle groups of people within the population. Or to consider several interacting populations. But for now, this is good enough. It reflects a common-sense notion of an epidemic. \n",
        "\n",
        "It's also essential to point out that \"recovered\" may not be a good thing. People may be \"recovered\" because they are dead. It's better to think of \"removed\" individuals. A more nuanced model could consider people who are alive and recovered versus people who die from the infection. The former group may (for example) be able to help others without getting sick again. Another subtlety is that it might take a different amount of time to die than to recover completely. But again, for now, this is only to get you thinking. We'll have plenty to explore with the simplest model. Also, in the case of COVID-19, the **case fatality rate** is large enough to cause the whole world to shut down for multiple months. But it's still small enough that it doesn't affect the overall population level. Of course, this is not always reasonable. The Black Plague killed roughly 50% of Europe between 1346-1353.  \n",
        "\n",
        "With each group, we consider the ***relative fraction*** of the population in each group:\n",
        "\n",
        "$$\\large\n",
        "s(t) \\ + \\ i(t) \\ + \\ r(t) \\ = \\ 1\n",
        "$$\n",
        "\n",
        "Considering the population as a fraction (or a percentage) is useful because it eliminates the explicit dependence on the total population size, $N$. Because of this relation, we don't need to model the recovered population explicitly. We know that \n",
        "\n",
        "$$\\large\n",
        "r(t) \\ = \\ 1 - s(t) - i(t).\n",
        "$$\n",
        "\n",
        "From now on, I'll focus on the susceptible fraction, $s(t)$, and infected fraction, $i(t)$.\n",
        "\n",
        "Another parameter that might be relevant is \n",
        "\n",
        "$$\\large\n",
        "\\tau \\ \\approx \\ \\text{time needed to ``recover\" from the infection.}\n",
        "$$\n",
        "\n",
        "It turns out that this is not quite as important as you might originally think. But it's still useful to discuss. \n",
        "\n",
        "For COVID-19 it seems that,\n",
        "\n",
        "$$\\large\n",
        "\\tau \\ \\approx \\ \\text{2-4 weeks},\n",
        "$$\n",
        "\n",
        "This is typical of many common respiratory viral infection (like the flu and the common cold). This number sets the overall timescale for how long the overall epidemic lasts. But we can solve everything without knowing $\\tau$ in advance.\n",
        "\n",
        "The fraction of susceptible and infected people follow a pair of coupled nonlinear ODEs:\n",
        "\n",
        "$$\\large\n",
        "\\tau \\frac{d s(t)}{dt} \\ = \\ - R_{0}\\, s(t)\\, i(t) , \\qquad \\qquad \\tau \\frac{di(t)}{dt} \\ = \\ R_{0}\\, s(t)\\, i(t) - i(t).\n",
        "$$\n",
        "\n",
        "Notice a few features of this system:\n",
        "\n",
        "* The term $R_{0}\\, s(t)\\, i(t)$ represents the action of the infection. It transfers the population from susceptible to infected. \n",
        "\n",
        "* The transfer is symmetric. A decrease of one susceptible person leads directly to exactly one infected person. \n",
        "\n",
        "* The transfer is multiplicative in both the susceptible and infected fraction. You need both to make things happen. \n",
        "\n",
        "We can add the two populations together, and the transfer cancels\n",
        "\n",
        "$$\\large\n",
        "\\frac{d (s(t) + i(t) )  }{dt} \\ = \\  - \\frac{i(t)}{\\tau} .  \n",
        "$$\n",
        "\n",
        "This is the recovery. It says that the total susceptible and infected fractions linearly decrease into the recovered fraction. This is a very important part of the dynamic. If there were no recovery, then after some time, close to the whole population would be infected. The whole system would simplify into a single equation called ***logistic growth***:\n",
        "\n",
        "$$\\large\n",
        "\\frac{di(t)}{dt} \\ = \\ \\frac{R_{0}}{\\tau}\\, (1-i(t)) \\, i(t), \\quad \\text{as} \\quad \\tau \\to \\infty.\n",
        "$$\n",
        "\n",
        "This might be a good model for some \"epidemics\". Literacy, for example, might behave this way. You don't #unlearn reading. With epidemics that last for very long periods of time, you have to take many other things into account, like the natural birth rate. While people don't forget how to read, a society can fail to \"infect\" the next generation. But this is all very complicated to analyse. \n",
        "\n",
        "We want to think about an epidemic that can start and end in a finite amount of time. We want an epidemic that is fast enough that normal population dynamics don't change very much over the course of the epidemic. COVID-19 is almost perfect from the modelling standpoint. "
      ]
    },
    {
      "cell_type": "markdown",
      "metadata": {
        "id": "zu0phTj_4LZl"
      },
      "source": [
        "<br>\n",
        "\n",
        "## **The basic reproduction number,** $\\boldsymbol{R_{0}}$\n",
        "\n",
        "\n",
        "We now see the appearance of the famous and much talked about \"R-naught\" parameter:\n",
        "\n",
        "$$\\large\n",
        "R_{0} \\ = \\ \\text{Average number of people an infected person infects (early in the epidemic)}.\n",
        "$$\n",
        "\n",
        "The ***basic reproduction number*** is both important and poorly understood. It's not just a parameter. It's a complicated function of all kinds of factors involving biology, human behaviour, and probability.\n",
        "\n",
        "\n",
        "When you hear about $R_{0}$ in the news, it's actually about the value *at the beginning* of the epidemic. This is a well-defined quantity. \n",
        "\n",
        "* COVID-19: $R_{0} \\approx \\text{3-6}$.\n",
        "\n",
        "\n",
        "* Influenza: $R_{0} \\approx \\text{0.9-2}$.\n",
        "\n",
        "\n",
        "* Measles: $R_{0} \\approx \\text{12-18}$.\n",
        "\n",
        "\n",
        "* HIV: $R_{0} \\approx \\text{2-5}$.\n",
        "\n",
        "\n",
        "* Ebola: $R_{0} \\approx \\text{1.5-2}$.\n",
        "\n",
        "\n",
        "Clearly, $R_{0}$ is not the whole story by far when it comes to how serious an epidemic is. But it is essential for understanding how much time you have to respond to an outbreak. \n",
        "\n",
        "There is one other thing worth mentioning about $R_{0}$. Infections that often called \"childhood diseases\" are anything with a very high $R_{0} \\approx 10$, or greater. Why? Absent a vaccine, it is just so likely that every susceptible person in a population will get it. In a population where Measles has existed for some time, children are the only susceptible people. This also further explains why diseases like Measles had such a disastrous effect on indigenous populations after the arrival of European colonists. High-$R_{0}$ infections happen so fast that you also need to take normal population dynamics into account, just as for infections that take very long periods to recover from, like HIV. \n",
        "\n",
        "\n",
        "In the case of COVID-19, the world started out with only a tiny number of people infected (maybe only one). Everyone else was susceptible. Therefore, \n",
        "\n",
        "$$\\large\n",
        "i(t=0) \\ = \\ i_{0}, \\qquad s(t=0) \\ = \\ 1-i_{0}\n",
        "$$\n",
        "\n",
        "We can also assume $i_{0}$ is *tiny*. Within a place like Australia, probably $i_{0} \\approx 10^{-6}$. The precise value doesn't matter much. \n",
        "\n",
        "The reason that $R_{0}$ is important is that it's vital information *early* in the epidemic when,\n",
        "\n",
        "$$\\large\n",
        "\\log \\frac{i(t)}{i_{0}} \\ \\approx \\ (R_{0} - 1) \\frac{t}{\\tau} \\quad \\text{(early on)}.\n",
        "$$\n",
        "\n",
        "This is the exponential trend that we all watched closely in the news around the world in early 2020. The big deal is that nothing takes off unless $R_{0} > 1$. The average person must pass along the infection to at least one other person. This seems obvious, but it wasn't understood until mathematical modelling pointed it out.  \n",
        "\n",
        "\n",
        "A more careful aproach looks at the follwoing relation that follows from the original equations:\n",
        "\n",
        "$$\\large\n",
        "\\frac{di}{dt} \\ = \\ -\\left(1 - \\frac{1}{R_{0} \\, s}\\right) \\frac{ds}{dt}.\n",
        "$$\n",
        "\n",
        "Because the susceptible fraction can't increase ($ds/dt \\le 0$), and $0 < s < 1$,\n",
        "\n",
        "$$\\large\n",
        "\\frac{di}{dt} \\ \\ge \\ 0 \\quad \\iff \\quad R_{0} \\, s \\ \\ge \\ 1.\n",
        "$$\n",
        "\n",
        "This also shows the infection will eventually go away; because $s$ is always decreasing. \n",
        "\n",
        "\n",
        "<br>\n",
        "\n",
        "\n",
        "### **What is $R_{0}$, really?**\n",
        "\n",
        "A more detailed look shows that:\n",
        "\n",
        "$$\\large\n",
        "R_{0} \\ = \\   P_{\\text{transmission}} \\times N_{\\text{encounter}} \n",
        "$$\n",
        "\n",
        "where\n",
        "\n",
        "$$\\large\n",
        "P_{\\text{transmission}} \\ = \\ \\text{Probability a sick person will infect a susceptible person if they meet.}\n",
        "$$\n",
        "\n",
        "$$\\large\n",
        "N_{\\text{encounter}} \\ = \\ \\text{Expected number of contancts between any two people within time = } \\tau\n",
        "$$\n",
        "\n",
        "You can see that these parameters are clearly a function of biology and our behaviour. This is why social distancing works. And so does hand washing. Vaccines work by lowering the total number of susceptible people.\n",
        "\n",
        "\n",
        "For a serious epidemic, it makes sense to consider \n",
        "\n",
        "$$\\large\n",
        "R_{0} \\ = \\ R_{0}(s,i). \n",
        "$$\n",
        "\n",
        "We know very well that society responds if things are bad enough.\n",
        "\n",
        "In general, this is a function of *both* the susceptible and infected fractions. For simplicity, we will temporarily pretend that it's some general function of $s$ alone. This makes the math easier. It seems from watching the news that society mostly responds to the number of infected people. Clearly, without infected people, no one would change their behaviour. \n",
        "\n",
        "But it's not quite that simple. \n",
        "\n",
        "* First, early in the epidemic, $s \\approx 1-i$, so the two are linked closely. \n",
        "\n",
        "\n",
        "* At the end of the epidemic, $i \\approx 0$, and $s$ is the only variable for things to depend on.\n",
        "\n",
        "\n",
        "So it is clear that $R_{0}$ does depend on $s$ at the very least. Also, \n",
        "\n",
        "\n",
        "* Very roughly $i \\ \\propto  \\ (1 - s) s$ throughout the epidemic. At least as far as approximating $R_{0}(s)$.\n",
        "\n",
        "\n",
        "* Because $s$ is monotonic, it is in one-to-one correspondence with time. Any function of time can be remapped to a function of $s$. \n",
        "\n",
        "## **General properties.**\n",
        "\n",
        "\n",
        "It is clear from our current situation that societies respond in complex ways to epidemics. This can happen because a disease spreads rapidly, is very deadly, last a very long time, or because immunity doesn't last forever (like the flu). Most of all, the responses occur by altering $R_{0}$ in complicated and nonlinear ways, e.g., vaccines, social distancing, education. Therefore, we want to make *computational* methods that can cope with a wide range of situations. It's not enough to assume $R_{0}$ is constant. We want to be able to experiment with all kinds of $R_{0}$ functions. Done well, this can help influence policy farther down the line. \n",
        "\n",
        "Before just solving the ODEs, we can analyse some of the general mathematical properties of the system.\n",
        "\n",
        "\n",
        "We can integrate the model over the susceptible fraction, giving a very general relation: \n",
        "\n",
        "$$\\large\n",
        "r(s) \\ = \\    \\int_{s}^{1} \\! \\frac{ds'}{s'\\,R_{0}(s') }.\n",
        "$$\n",
        "\n",
        "You might call this the ***recovery function***. It might look like it came from the sky. But this equation says the number of recovered people is the sum of all the past susceptible people who ended up infected at some time. It doesn't matter how long it took.\n",
        "\n",
        "Of course recall,\n",
        "\n",
        "$$\\large\n",
        "i(s) \\ = \\   1 - s -  r(s)\n",
        "$$\n",
        "\n",
        "We are really interested in the number of infected people at the peak and the number of susceptible people at the end of the epidemic. \n",
        "\n",
        "<br>\n",
        "\n",
        "### **`import`**\n",
        "\n",
        "You are allowed to use the following imported libraries. In the case, of integrating and time stepping differential equations, it's better to use something supplied by `scipy` than `DIY`."
      ]
    },
    {
      "cell_type": "code",
      "metadata": {
        "id": "slETVb6b4LZn"
      },
      "source": [
        "import numpy as np\n",
        "import matplotlib.pyplot as plt\n",
        "%matplotlib inline\n",
        "\n",
        "# You should use these:\n",
        "from scipy.integrate import simps\n",
        "from scipy.integrate import odeint"
      ],
      "execution_count": null,
      "outputs": []
    },
    {
      "cell_type": "markdown",
      "metadata": {
        "id": "WXGV-1I64LZn"
      },
      "source": [
        "<br>\n",
        "\n",
        "### **TASK 0.0: `recovery`**\n",
        "\n",
        "Make a Python function called `recovery` that computes $r(s)$. Your function should have the following input:\n",
        "\n",
        "* The susceptible fraction, `s`.\n",
        "\n",
        "\n",
        "* A Python *function* called `R0` that computes $R_{0}(s)$. \n",
        "\n",
        "\n",
        "* A default integer argument, `n=101`, giving the number of internal points to use for the integration.\n",
        "\n",
        "\n",
        "You should consider the following guidelines:\n",
        "\n",
        "\n",
        "   * If you give your function a `float` for `s`, you should return a `float` type.\n",
        "\n",
        "\n",
        "\n",
        "   * If you give an `np.ndarray` input type for `s`, your function should return the results in an array; i.e., your function should be *vectorised*.\n",
        "\n",
        "\n",
        "\n",
        "   * You should use `scipy.integrate.simp` to carry out your internal integration. This will mean your accuracy will only depend on `n.` \n",
        "   \n",
        "   \n",
        "   \n",
        "    For example:\n",
        "    \n",
        "    In [0]: def R0(s): \n",
        "                return 4 + 0*s\n",
        "        \n",
        "             s = 0.2\n",
        "    \n",
        "             recovery(s,R0,n=101)\n",
        "            \n",
        "    Out[0]: 0.40235949932702725\n",
        "    \n",
        "    In [1]: def R0(s): \n",
        "                4*(1 - 9*(1 - s)*s**4)\n",
        "        \n",
        "             s = np.array([0.2,0.3,0.4])\n",
        "    \n",
        "             recovery(s,R0,n=1001)\n",
        "            \n",
        "    Out[1]: array([0.66912522, 0.56496397, 0.48604337])"
      ]
    },
    {
      "cell_type": "markdown",
      "metadata": {
        "id": "BM0Q2aZs4LZo"
      },
      "source": [
        "Remember, you can pass *functions* to other functions. This is useful for something like an integration scheme. You might want to pass in different functions to be integrated and just get the answer back. How everything happens behind the scenes is not something you want to worry about each time. \n",
        "\n",
        "#### For example:"
      ]
    },
    {
      "cell_type": "code",
      "metadata": {
        "colab": {
          "base_uri": "https://localhost:8080/"
        },
        "id": "0TgTpyXc4LZo",
        "outputId": "5e538bd3-1181-4972-fa09-bfbd049f4bc2"
      },
      "source": [
        "### SKIP\n",
        "### Demo\n",
        "\n",
        "def square(x):\n",
        "    return x*x\n",
        "    \n",
        "def increment(x):\n",
        "    return x+1\n",
        "    \n",
        "def wrapper(x,f):\n",
        "    print(f'Calling: {f.__name__}({x})')\n",
        "    y = f(x)\n",
        "    print(f' Result: {y}','\\n')\n",
        "    return y\n",
        "\n",
        "result = wrapper(3,square)\n",
        "result = wrapper(4,increment)"
      ],
      "execution_count": null,
      "outputs": [
        {
          "output_type": "stream",
          "text": [
            "Calling: square(3)\n",
            " Result: 9 \n",
            "\n",
            "Calling: increment(4)\n",
            " Result: 5 \n",
            "\n"
          ],
          "name": "stdout"
        }
      ]
    },
    {
      "cell_type": "markdown",
      "metadata": {
        "id": "R4X7n0h94LZp"
      },
      "source": [
        "<br>"
      ]
    },
    {
      "cell_type": "code",
      "metadata": {
        "id": "kM4rrse04LZp"
      },
      "source": [
        "### TEST FUNCTION: test_recovery\n",
        "## DO NOT ERASE ANYTHING INITIALLY IN THIS CELL ##\n",
        "\n",
        "def recovery(s,R0,n=101):\n",
        "\n",
        "  name = type(s).__name__\n",
        "  if name == 'ndarray' or name == 'list':\n",
        "    rets = []\n",
        "    for ele in s:\n",
        "      x = np.linspace(ele,1,n)\n",
        "      y = list(map(lambda x: 1 / (x * R0(x)), x))\n",
        "      result = round(simps(y, x), 8)\n",
        "      rets.append(result)\n",
        "\n",
        "  else:\n",
        "    x = np.linspace(s,1,n)\n",
        "    y = list(map(lambda x: 1 / (x * R0(x)), x))\n",
        "    result = round(simps(y, x), 8)\n",
        "    return result\n",
        "    ### INPUT YOUR CODE BELOW THIS LIKE ###\n",
        "    \n",
        "  return rets"
      ],
      "execution_count": null,
      "outputs": []
    },
    {
      "cell_type": "code",
      "metadata": {
        "colab": {
          "base_uri": "https://localhost:8080/"
        },
        "id": "sVSYFlvq4LZq",
        "outputId": "8a605d03-8542-4b32-89d7-c52c40fbb7c0"
      },
      "source": [
        "### SKIP\n",
        "### TEST YOUR CODE HERE ###\n",
        "\n",
        "def R0(s): \n",
        "    return 4*(1 - 9*(1 - s)*s**4)\n",
        "\n",
        "s = np.array([0.2,0.3,0.4])\n",
        "\n",
        "recovery(s,R0,n=1001)\n",
        "\n"
      ],
      "execution_count": null,
      "outputs": [
        {
          "output_type": "execute_result",
          "data": {
            "text/plain": [
              "[0.66912522, 0.56496397, 0.48604337]"
            ]
          },
          "metadata": {
            "tags": []
          },
          "execution_count": 5
        }
      ]
    },
    {
      "cell_type": "markdown",
      "metadata": {
        "id": "x5FfeJ-h4LZq"
      },
      "source": [
        "<br>"
      ]
    },
    {
      "cell_type": "markdown",
      "metadata": {
        "id": "ceqSwBys4LZq"
      },
      "source": [
        "### **TASK 0.1: `susceptible_final`**\n",
        "\n",
        "For a given $R_{0}(s)$, make a function called `susceptible_final` that computes the value of the susceptible fraction after the epidemic is over. This is defined as $s$ when the infection fraction is zero. We know from the recovery function this is when \n",
        "\n",
        "$$\\large\n",
        "i(s) \\ = \\ 1 - s - r(s)  \\ = \\ 0\n",
        "$$\n",
        "\n",
        "Solve this using Newton's method. Make a function called `s_inf` according to the following guidelines:\n",
        "\n",
        "The function should take:\n",
        "\n",
        "*  a Python *function* `R0`. \n",
        "\n",
        "\n",
        "* `s_guess` for the initial Newton's method guess.\n",
        "\n",
        "The function should also take the following optional arguments:\n",
        "\n",
        "   * `iterations = 30` for the number of Newton steps to use internally.\n",
        "     \n",
        "  \n",
        "   * `n = 101` for the number of interanl grid  points to use compuiting `r(s,R)`.\n",
        "   \n",
        "   \n",
        "    For example:\n",
        "    \n",
        "    \n",
        "    In [0]: def R0(s):\n",
        "                retrurn 4+0*s\n",
        "    \n",
        "            susceptible_final(R0,0.01)\n",
        "   \n",
        "    Out[0]: 0.019856516268401604\n",
        "   \n",
        " <br>"
      ]
    },
    {
      "cell_type": "code",
      "metadata": {
        "id": "WSWYP8kq4LZq"
      },
      "source": [
        "### TEST FUNCTION: test_susceptible_final\n",
        "## DO NOT ERASE ANYTHING INITIALLY IN THIS CELL ##\n",
        "\n",
        "def susceptible_final(R0,s_guess,iterations=30,n=101):\n",
        "\n",
        "    s_init = s_guess\n",
        "    for i in range(iterations):\n",
        "      A = 1 - recovery(s_init, R0, n=n)\n",
        "      #print(s_init, recovery(s_init, R0, n=n))\n",
        "      B = 1 / (s_init * float(R0(s_init)))\n",
        "      s_init = s_init - A/B\n",
        "\n",
        "    ### INPUT YOUR CODE BELOW THIS LIKE ###\n",
        "    \n",
        "    return s_init"
      ],
      "execution_count": null,
      "outputs": []
    },
    {
      "cell_type": "code",
      "metadata": {
        "id": "Nhhq6rj84LZr",
        "colab": {
          "base_uri": "https://localhost:8080/"
        },
        "outputId": "88d89981-6ab5-4cdc-bde5-a3fd99bbef66"
      },
      "source": [
        "### SKIP\n",
        "### TEST YOUR CODE HERE ###\n",
        "\n",
        "def R0(s):\n",
        "    return 4+0*s\n",
        "\n",
        "print(susceptible_final(R0, 0.01))"
      ],
      "execution_count": null,
      "outputs": [
        {
          "output_type": "stream",
          "text": [
            "0.01834824131491506\n"
          ],
          "name": "stdout"
        }
      ]
    },
    {
      "cell_type": "markdown",
      "metadata": {
        "id": "e5zRWe_A4LZr"
      },
      "source": [
        "<br>"
      ]
    },
    {
      "cell_type": "markdown",
      "metadata": {
        "id": "7K074fCj4LZr"
      },
      "source": [
        "### **TASK 0.2: `infection_max`**\n",
        "\n",
        "Make a function called `infection_max` that computes the maximum infected fraction for a given $R_{0}(s)$. This happens at the value of $s$ where \n",
        "\n",
        "$$\\large\n",
        "i'(s) \\ = \\ - 1 + \\frac{1}{s \\, R_{0}(s)}  \\ = \\ 0\n",
        "$$\n",
        "\n",
        "Therefore, you have to solve \n",
        "\n",
        "$$\\large\n",
        "s \\, R_{0}(s) - 1 \\ = \\ 0,\n",
        "$$\n",
        "\n",
        "and then substitute that value back into $i(s)$. \n",
        "\n",
        "* You should use Newton's method on the function $s\\, R_{0}(s)-1$\n",
        "\n",
        "\n",
        "* This will require computing the derivative $R_{0}'(s)$. \n",
        "\n",
        "\n",
        "* Not knowing in advance the form of $R_{0}(s)$, approximate the derivative using the second-order centred finite-difference formula \n",
        "\n",
        "$$\\large\n",
        "R_{0}'(s) \\ \\approx \\  \\frac{R_{0}(s+ds) - R_{0}(s-ds)}{2ds} \\qquad \\text{for some small value of } ds.\n",
        "$$\n",
        "\n",
        "\n",
        "<br>\n",
        "\n",
        "Your function should take the following input:\n",
        "\n",
        "\n",
        "* A Python function `R0`.\n",
        "\n",
        "\n",
        "* The initial guess for the critical susceptible fraction `s_guess`. \n",
        "\n",
        "\n",
        "You should also have the following default arguments:\n",
        "\n",
        "\n",
        "* `ds=1e-3` for the finte-difference spacing.\n",
        "\n",
        "\n",
        "* `iterations=30` for the number of Newton iterations. \n",
        "\n",
        "\n",
        "Your function should output *both* of the following:\n",
        "\n",
        "* The value of `s` where the peak occurs. \n",
        "\n",
        "\n",
        "* The value of `i` at the peak.\n",
        "\n",
        "The order of the output should be `s,i`.\n",
        "\n",
        "\n",
        "      For example:\n",
        "      \n",
        "      \n",
        "      In [0]: def R0(s):\n",
        "                  return 4 + 0*s\n",
        "              \n",
        "              infection_max(R0,0.5)\n",
        "              \n",
        "      Out[0]: (0.25, 0.40342640301079824)\n",
        "      \n",
        "      \n",
        "* This is 40% of the population at the same time!\n",
        "\n",
        "<br>"
      ]
    },
    {
      "cell_type": "code",
      "metadata": {
        "id": "uOK-82ZL4LZr"
      },
      "source": [
        "### TEST FUNCTION: test_infection_max\n",
        "## DO NOT ERASE ANYTHING INITIALLY IN THIS CELL ##\n",
        "\n",
        "def infection_max(R0,s_guess,ds=1e-3,iterations=30):\n",
        "    \n",
        "    ### INPUT YOUR CODE BELOW THIS LIKE ###\n",
        "    s_init = s_guess\n",
        "    for i in range(iterations):\n",
        "      A = s_init * R0(s_init) - 1\n",
        "      B = R0(s_init) + s_init * (R0(s_init + ds) - R0(s_init - ds)) / (2*ds)\n",
        "      s_init = s_init - A/B\n",
        "\n",
        "    r = recovery(s_init, R0)\n",
        "    i = 1 - r - s_init\n",
        "    \n",
        "    return s_init, i"
      ],
      "execution_count": null,
      "outputs": []
    },
    {
      "cell_type": "code",
      "metadata": {
        "id": "SHz1UuiY4LZs",
        "colab": {
          "base_uri": "https://localhost:8080/"
        },
        "outputId": "1e560852-1eee-48ed-9c3d-40f6814de59b"
      },
      "source": [
        "### SKIP\n",
        "### TEST YOUR CODE HERE ###\n",
        "\n",
        "def R0(s):\n",
        "  return 4 + 0*s\n",
        "\n",
        "infection_max(R0, 0.5)"
      ],
      "execution_count": null,
      "outputs": [
        {
          "output_type": "execute_result",
          "data": {
            "text/plain": [
              "(0.25, 0.4034264000000001)"
            ]
          },
          "metadata": {
            "tags": []
          },
          "execution_count": 9
        }
      ]
    },
    {
      "cell_type": "markdown",
      "metadata": {
        "id": "bOMqZBlW4LZs"
      },
      "source": [
        "<br>"
      ]
    },
    {
      "cell_type": "markdown",
      "metadata": {
        "id": "InokdrZN4LZs"
      },
      "source": [
        "### **TASK 1: `SIRModel`**\n",
        "\n",
        "Write a function called `SIRModel` that solves the dynamical equations for a general $R_{0}(s,i)$.\n",
        "\n",
        "$$\\large\n",
        "\\frac{d s}{dt} \\ = \\ - R_{0}(s,i)\\, s\\, i, \\qquad \\frac{d i}{dt} \\ = \\  R_{0}(s,i)\\, s\\, i - i\n",
        "$$\n",
        "\n",
        "\n",
        "You can assume that $\\tau = 1$. This means that the timescale is in units of the recovery time. Meaning your time axis should have units of about a month if you think about COVID-19.\n",
        "\n",
        "You should follow the design specifications:\n",
        "\n",
        "* Your function should take an input `np.array` `t` for which you want the solution.\n",
        "\n",
        "\n",
        "* Your function should take a Python function `R0`, which is assumed to depend only on `s`,`i` in that order.\n",
        "\n",
        "\n",
        "* You should include a default initial-condition `i0 = 1e-6`. Assume `s0=1-i0`.\n",
        "\n",
        "\n",
        "* Your function should output a tuple of two arrays, the susceptible and infected fraction `s`, `i`, in that order.\n",
        "\n",
        "\n",
        "* You should define the right-hand sides of the equations inside your function. I want this to be a \"black box\".\n",
        "\n",
        "\n",
        "* You should use `scipy.integrate.odeint` to time step your system. Look up online how to use it. \n",
        "\n",
        "\n",
        "      For example:\n",
        "      \n",
        "      In [0]: t = np.linspace(0,30,200)\n",
        "              \n",
        "              def R0(s,i,t): \n",
        "                  return 4 + 0*s\n",
        "                  \n",
        "              s,i = SIRModel(t,R0)\n",
        "              \n",
        "              s[-1]\n",
        "              \n",
        "      Out[0]: 0.01982739605220006"
      ]
    },
    {
      "cell_type": "code",
      "metadata": {
        "id": "SlJ2-yKH4LZs"
      },
      "source": [
        "### TEST FUNCTION: test_SIRModel\n",
        "## DO NOT ERASE ANYTHING INITIALLY IN THIS CELL ##\n",
        "\n",
        "def vs(s,t):\n",
        "  r = recovery(s, R0)[0]\n",
        "  i = 1 - s - r\n",
        "  return - R0(s) * s * i\n",
        "\n",
        "def SIRModel(t,R0,i0=1e-6):\n",
        "\n",
        "    s0 = 1-i0\n",
        "\n",
        "    ys = odeint(vs, s0, t)\n",
        "    frist = lambda t: t[0]\n",
        "    ys = np.array([frist(s) for s in ys])\n",
        "    yr = recovery(ys, R0)\n",
        "    yi = 1 - ys - yr\n",
        "\n",
        "    ### INPUT YOUR CODE BELOW THIS LIKE ###\n",
        "\n",
        "    return ys, yi"
      ],
      "execution_count": null,
      "outputs": []
    },
    {
      "cell_type": "code",
      "metadata": {
        "id": "r_l2EMYG4LZt",
        "colab": {
          "base_uri": "https://localhost:8080/"
        },
        "outputId": "eb98f9b2-67e5-4a44-b607-3cf1a02a922b"
      },
      "source": [
        "### SKIP\n",
        "### TEST YOUR CODE HERE ###\n",
        "\n",
        "t = np.linspace(0,30,200)\n",
        "\n",
        "def R0(s): \n",
        "  return 4 + 0*s\n",
        "\n",
        "s,i = SIRModel(t,R0)\n",
        "\n",
        "s[-1]"
      ],
      "execution_count": null,
      "outputs": [
        {
          "output_type": "execute_result",
          "data": {
            "text/plain": [
              "0.01985651453147489"
            ]
          },
          "metadata": {
            "tags": []
          },
          "execution_count": 11
        }
      ]
    },
    {
      "cell_type": "markdown",
      "metadata": {
        "id": "r4DWEvct4LZt"
      },
      "source": [
        "<br>\n",
        "\n",
        "### **TASK 2: A multiple-peak epidemic**\n",
        "\n",
        "When we look at the news from around the world, we see a few general trends happening.\n",
        "\n",
        "* If an epidemic is left to naturally \"run its course\", then infection fraction will comprise a single large bump (e.g. with the seasonal flu).\n",
        "    \n",
        "    \n",
        "* In the case of a severe epidemic, we now know that societies will respond and attempt to decrease $R_{0}$.\n",
        "\n",
        "\n",
        "* The simplest response is \"flattening the curve\"; the peak is lower, the epidemic last longer, and perhaps fewer people overall get sick.\n",
        "    \n",
        "\n",
        "* Some societies, however, decide to reverse social-distancing policies during the epidemic.\n",
        "\n",
        "\n",
        "* If \"opening up\" happens early enough, it means that the epidemic behaves as it would with little or no intervention. You still get a single bump.\n",
        "    \n",
        "    \n",
        "    \n",
        "    \n",
        "* If \"opening up\" happens late enough, then you get a smaller single bump. \n",
        "\n",
        "\n",
        "\n",
        "* If however, a country goes back to normal within a narrow window, then what looks like a single bump can turn into an epidemic with two peaks.\n",
        "\n",
        "\n",
        "I want you to find an $R_{0}(s,i)$ that produces a double bump. Inside the function you can have it depend on $s$ and $i$ any way you want with the following conditions:\n",
        "\n",
        "* **Zeroth**: the function must be positive for any well-defined input:\n",
        "\n",
        "$$\\large\n",
        "0  \\ <  \\ R_{0}(s,i) , \\qquad \\text{for} \\quad 0 \\le s, i \\le 1.\n",
        "$$\n",
        "\n",
        "\n",
        "* **First**, the value if no one is susceptible should be the same if everyone is and there is no infection.\n",
        "\n",
        "$$\\large\n",
        "R_{0}(s=1,i=0) \\ = \\ R_{0}(s=0,i)\n",
        "$$\n",
        "\n",
        "* **Second**: the function should not become larger than its initial value at any point during the epidemic. \n",
        "\n",
        "\n",
        "$$\\large\n",
        "R_{0}(s,i) \\ \\le \\ R_{0}(s=1,i=0) \\qquad \\text{for} \\quad 0 < s, i < 1.\n",
        "$$\n",
        "\n",
        "\n",
        "<br> \n"
      ]
    },
    {
      "cell_type": "code",
      "metadata": {
        "id": "For3_dzX4LZt"
      },
      "source": [
        "### TEST FUNCTION: test_multi_bump_R0\n",
        "## DO NOT ERASE ANYTHING INITIALLY IN THIS CELL ##\n",
        "\n",
        "def multi_bump_R0(s,i):\n",
        "    \n",
        "    ### INPUT YOUR CODE BELOW THIS LIKE ###\n",
        "    \n",
        "    return i * i * s + 1"
      ],
      "execution_count": null,
      "outputs": []
    },
    {
      "cell_type": "code",
      "metadata": {
        "id": "pvOmGwq94LZt",
        "colab": {
          "base_uri": "https://localhost:8080/"
        },
        "outputId": "efbf9eba-2bce-45bc-c823-86f809e28fb9"
      },
      "source": [
        "### SKIP\n",
        "### TEST YOUR CODE HERE ###\n",
        "\n",
        "print(multi_bump_R0(0.2, 0.7))\n",
        "print(multi_bump_R0(0.3, 0.5))\n",
        "print(multi_bump_R0(0.5, 0.5))\n",
        "print(multi_bump_R0(0.7, 0.2))\n",
        "print(multi_bump_R0(1, 0))\n"
      ],
      "execution_count": null,
      "outputs": [
        {
          "output_type": "stream",
          "text": [
            "1.098\n",
            "1.075\n",
            "1.125\n",
            "1.028\n",
            "1\n"
          ],
          "name": "stdout"
        }
      ]
    },
    {
      "cell_type": "markdown",
      "metadata": {
        "id": "xn_cGrGr4LZt"
      },
      "source": [
        "<br>\n",
        "<br>\n",
        "\n",
        "# **END ASSIGNMENT**\n"
      ]
    }
  ]
}