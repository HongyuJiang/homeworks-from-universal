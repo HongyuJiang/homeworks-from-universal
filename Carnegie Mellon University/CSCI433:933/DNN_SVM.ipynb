{
  "nbformat": 4,
  "nbformat_minor": 0,
  "metadata": {
    "colab": {
      "name": "DNN_SVM.ipynb",
      "provenance": [],
      "collapsed_sections": []
    },
    "kernelspec": {
      "name": "python3",
      "display_name": "Python 3"
    },
    "language_info": {
      "name": "python"
    },
    "accelerator": "GPU"
  },
  "cells": [
    {
      "cell_type": "code",
      "metadata": {
        "id": "v2nTKGbIDNCL"
      },
      "source": [
        "import matplotlib.pyplot as plt\n",
        "import numpy as np\n",
        "import pandas as pd\n",
        "import tensorflow as tf\n",
        "\n",
        "from sklearn.metrics import accuracy_score, precision_score, recall_score\n",
        "from sklearn.model_selection import train_test_split\n",
        "from tensorflow.keras import layers, losses\n",
        "from tensorflow.keras.datasets import fashion_mnist\n",
        "from tensorflow.keras.models import Model"
      ],
      "execution_count": null,
      "outputs": []
    },
    {
      "cell_type": "markdown",
      "metadata": {
        "id": "UeENRfHInjQH"
      },
      "source": [
        "# DNN-based Autoencoder"
      ]
    },
    {
      "cell_type": "code",
      "metadata": {
        "colab": {
          "base_uri": "https://localhost:8080/"
        },
        "id": "oN8X9kayDPKz",
        "outputId": "b41aa14d-f3a0-4dac-98d5-4615ec60ee78"
      },
      "source": [
        "(x_train, y_train), (x_test, y_test) = fashion_mnist.load_data()\n",
        "\n",
        "x_train = x_train.astype('float32') / 255.\n",
        "x_test = x_test.astype('float32') / 255.\n",
        "\n",
        "print (x_train.shape)\n",
        "print (x_test.shape)"
      ],
      "execution_count": null,
      "outputs": [
        {
          "output_type": "stream",
          "text": [
            "Downloading data from https://storage.googleapis.com/tensorflow/tf-keras-datasets/train-labels-idx1-ubyte.gz\n",
            "32768/29515 [=================================] - 0s 0us/step\n",
            "Downloading data from https://storage.googleapis.com/tensorflow/tf-keras-datasets/train-images-idx3-ubyte.gz\n",
            "26427392/26421880 [==============================] - 0s 0us/step\n",
            "Downloading data from https://storage.googleapis.com/tensorflow/tf-keras-datasets/t10k-labels-idx1-ubyte.gz\n",
            "8192/5148 [===============================================] - 0s 0us/step\n",
            "Downloading data from https://storage.googleapis.com/tensorflow/tf-keras-datasets/t10k-images-idx3-ubyte.gz\n",
            "4423680/4422102 [==============================] - 0s 0us/step\n",
            "(60000, 28, 28)\n",
            "(10000, 28, 28)\n"
          ],
          "name": "stdout"
        }
      ]
    },
    {
      "cell_type": "code",
      "metadata": {
        "colab": {
          "base_uri": "https://localhost:8080/"
        },
        "id": "K-oAn211OnOg",
        "outputId": "351ded66-52b4-4cfd-a67c-9b3460b59ec1"
      },
      "source": [
        "x_train"
      ],
      "execution_count": null,
      "outputs": [
        {
          "output_type": "execute_result",
          "data": {
            "text/plain": [
              "array([[[0., 0., 0., ..., 0., 0., 0.],\n",
              "        [0., 0., 0., ..., 0., 0., 0.],\n",
              "        [0., 0., 0., ..., 0., 0., 0.],\n",
              "        ...,\n",
              "        [0., 0., 0., ..., 0., 0., 0.],\n",
              "        [0., 0., 0., ..., 0., 0., 0.],\n",
              "        [0., 0., 0., ..., 0., 0., 0.]],\n",
              "\n",
              "       [[0., 0., 0., ..., 0., 0., 0.],\n",
              "        [0., 0., 0., ..., 0., 0., 0.],\n",
              "        [0., 0., 0., ..., 0., 0., 0.],\n",
              "        ...,\n",
              "        [0., 0., 0., ..., 0., 0., 0.],\n",
              "        [0., 0., 0., ..., 0., 0., 0.],\n",
              "        [0., 0., 0., ..., 0., 0., 0.]],\n",
              "\n",
              "       [[0., 0., 0., ..., 0., 0., 0.],\n",
              "        [0., 0., 0., ..., 0., 0., 0.],\n",
              "        [0., 0., 0., ..., 0., 0., 0.],\n",
              "        ...,\n",
              "        [0., 0., 0., ..., 0., 0., 0.],\n",
              "        [0., 0., 0., ..., 0., 0., 0.],\n",
              "        [0., 0., 0., ..., 0., 0., 0.]],\n",
              "\n",
              "       ...,\n",
              "\n",
              "       [[0., 0., 0., ..., 0., 0., 0.],\n",
              "        [0., 0., 0., ..., 0., 0., 0.],\n",
              "        [0., 0., 0., ..., 0., 0., 0.],\n",
              "        ...,\n",
              "        [0., 0., 0., ..., 0., 0., 0.],\n",
              "        [0., 0., 0., ..., 0., 0., 0.],\n",
              "        [0., 0., 0., ..., 0., 0., 0.]],\n",
              "\n",
              "       [[0., 0., 0., ..., 0., 0., 0.],\n",
              "        [0., 0., 0., ..., 0., 0., 0.],\n",
              "        [0., 0., 0., ..., 0., 0., 0.],\n",
              "        ...,\n",
              "        [0., 0., 0., ..., 0., 0., 0.],\n",
              "        [0., 0., 0., ..., 0., 0., 0.],\n",
              "        [0., 0., 0., ..., 0., 0., 0.]],\n",
              "\n",
              "       [[0., 0., 0., ..., 0., 0., 0.],\n",
              "        [0., 0., 0., ..., 0., 0., 0.],\n",
              "        [0., 0., 0., ..., 0., 0., 0.],\n",
              "        ...,\n",
              "        [0., 0., 0., ..., 0., 0., 0.],\n",
              "        [0., 0., 0., ..., 0., 0., 0.],\n",
              "        [0., 0., 0., ..., 0., 0., 0.]]], dtype=float32)"
            ]
          },
          "metadata": {
            "tags": []
          },
          "execution_count": 3
        }
      ]
    },
    {
      "cell_type": "code",
      "metadata": {
        "id": "FT4RWCMSDSg0"
      },
      "source": [
        "\n",
        "class Autoencoder(Model):\n",
        "  def __init__(self):\n",
        "    super(Autoencoder, self).__init__()\n",
        "    self.encoder = tf.keras.Sequential([\n",
        "      layers.Flatten(),\n",
        "      layers.Dense(128, activation='relu'),\n",
        "      layers.Dense(64, activation='relu'),\n",
        "      layers.Dense(32, activation='relu')\n",
        "      #for more layers\n",
        "      #layers.Dense(256, activation='relu'),\n",
        "      #layers.Dense(128, activation='relu'),\n",
        "      #layers.Dense(64, activation='relu'),\n",
        "      #layers.Dense(32, activation='relu')\n",
        "    ])\n",
        "    self.decoder = tf.keras.Sequential([\n",
        "      layers.Dense(64, activation='relu'),\n",
        "      layers.Dense(128, activation='relu'),                                  \n",
        "      layers.Dense(784, activation='relu'),\n",
        "      #for more layers\n",
        "      #layers.Dense(64, activation='relu'),\n",
        "      #layers.Dense(128, activation='relu'),\n",
        "      #layers.Dense(256, activation='relu'),\n",
        "      #layers.Dense(784, activation='relu')\n",
        "      layers.Reshape((28, 28))\n",
        "    ])\n",
        "\n",
        "  def call(self, x):\n",
        "    encoded = self.encoder(x)\n",
        "    decoded = self.decoder(encoded)\n",
        "    return decoded\n",
        "\n",
        "autoencoder = Autoencoder()"
      ],
      "execution_count": null,
      "outputs": []
    },
    {
      "cell_type": "code",
      "metadata": {
        "id": "gVqQc2D_DZ8m"
      },
      "source": [
        "autoencoder.compile(optimizer='adam', loss=losses.MeanSquaredError())"
      ],
      "execution_count": null,
      "outputs": []
    },
    {
      "cell_type": "code",
      "metadata": {
        "colab": {
          "base_uri": "https://localhost:8080/"
        },
        "id": "RnLd7pngDcOL",
        "outputId": "0ec74660-3d3d-4367-e0ca-0b52a5e02d45"
      },
      "source": [
        "autoencoder.fit(x_train, x_train,\n",
        "                epochs=30,\n",
        "                shuffle=True,\n",
        "                batch_size=256,\n",
        "                validation_data=(x_test, x_test))"
      ],
      "execution_count": null,
      "outputs": [
        {
          "output_type": "stream",
          "text": [
            "Epoch 1/30\n",
            "235/235 [==============================] - 3s 5ms/step - loss: 0.0810 - val_loss: 0.0289\n",
            "Epoch 2/30\n",
            "235/235 [==============================] - 1s 3ms/step - loss: 0.0272 - val_loss: 0.0248\n",
            "Epoch 3/30\n",
            "235/235 [==============================] - 1s 3ms/step - loss: 0.0243 - val_loss: 0.0233\n",
            "Epoch 4/30\n",
            "235/235 [==============================] - 1s 3ms/step - loss: 0.0228 - val_loss: 0.0222\n",
            "Epoch 5/30\n",
            "235/235 [==============================] - 1s 3ms/step - loss: 0.0219 - val_loss: 0.0215\n",
            "Epoch 6/30\n",
            "235/235 [==============================] - 1s 3ms/step - loss: 0.0213 - val_loss: 0.0208\n",
            "Epoch 7/30\n",
            "235/235 [==============================] - 1s 3ms/step - loss: 0.0205 - val_loss: 0.0203\n",
            "Epoch 8/30\n",
            "235/235 [==============================] - 1s 3ms/step - loss: 0.0201 - val_loss: 0.0199\n",
            "Epoch 9/30\n",
            "235/235 [==============================] - 1s 3ms/step - loss: 0.0198 - val_loss: 0.0197\n",
            "Epoch 10/30\n",
            "235/235 [==============================] - 1s 3ms/step - loss: 0.0195 - val_loss: 0.0194\n",
            "Epoch 11/30\n",
            "235/235 [==============================] - 1s 3ms/step - loss: 0.0190 - val_loss: 0.0188\n",
            "Epoch 12/30\n",
            "235/235 [==============================] - 1s 3ms/step - loss: 0.0186 - val_loss: 0.0185\n",
            "Epoch 13/30\n",
            "235/235 [==============================] - 1s 3ms/step - loss: 0.0183 - val_loss: 0.0181\n",
            "Epoch 14/30\n",
            "235/235 [==============================] - 1s 3ms/step - loss: 0.0179 - val_loss: 0.0181\n",
            "Epoch 15/30\n",
            "235/235 [==============================] - 1s 3ms/step - loss: 0.0177 - val_loss: 0.0179\n",
            "Epoch 16/30\n",
            "235/235 [==============================] - 1s 3ms/step - loss: 0.0176 - val_loss: 0.0177\n",
            "Epoch 17/30\n",
            "235/235 [==============================] - 1s 3ms/step - loss: 0.0175 - val_loss: 0.0176\n",
            "Epoch 18/30\n",
            "235/235 [==============================] - 1s 3ms/step - loss: 0.0173 - val_loss: 0.0173\n",
            "Epoch 19/30\n",
            "235/235 [==============================] - 1s 3ms/step - loss: 0.0171 - val_loss: 0.0172\n",
            "Epoch 20/30\n",
            "235/235 [==============================] - 1s 3ms/step - loss: 0.0170 - val_loss: 0.0171\n",
            "Epoch 21/30\n",
            "235/235 [==============================] - 1s 3ms/step - loss: 0.0169 - val_loss: 0.0171\n",
            "Epoch 22/30\n",
            "235/235 [==============================] - 1s 3ms/step - loss: 0.0168 - val_loss: 0.0170\n",
            "Epoch 23/30\n",
            "235/235 [==============================] - 1s 3ms/step - loss: 0.0167 - val_loss: 0.0168\n",
            "Epoch 24/30\n",
            "235/235 [==============================] - 1s 3ms/step - loss: 0.0167 - val_loss: 0.0167\n",
            "Epoch 25/30\n",
            "235/235 [==============================] - 1s 3ms/step - loss: 0.0166 - val_loss: 0.0167\n",
            "Epoch 26/30\n",
            "235/235 [==============================] - 1s 3ms/step - loss: 0.0166 - val_loss: 0.0167\n",
            "Epoch 27/30\n",
            "235/235 [==============================] - 1s 3ms/step - loss: 0.0165 - val_loss: 0.0167\n",
            "Epoch 28/30\n",
            "235/235 [==============================] - 1s 3ms/step - loss: 0.0164 - val_loss: 0.0166\n",
            "Epoch 29/30\n",
            "235/235 [==============================] - 1s 3ms/step - loss: 0.0164 - val_loss: 0.0166\n",
            "Epoch 30/30\n",
            "235/235 [==============================] - 1s 3ms/step - loss: 0.0164 - val_loss: 0.0165\n"
          ],
          "name": "stdout"
        },
        {
          "output_type": "execute_result",
          "data": {
            "text/plain": [
              "<tensorflow.python.keras.callbacks.History at 0x7f53103d3390>"
            ]
          },
          "metadata": {
            "tags": []
          },
          "execution_count": 6
        }
      ]
    },
    {
      "cell_type": "code",
      "metadata": {
        "id": "Yz1xpni_Q9Ke"
      },
      "source": [
        "encoded_imgs = autoencoder.encoder(x_test).numpy()\n",
        "decoded_imgs = autoencoder.decoder(encoded_imgs).numpy()"
      ],
      "execution_count": null,
      "outputs": []
    },
    {
      "cell_type": "code",
      "metadata": {
        "colab": {
          "base_uri": "https://localhost:8080/",
          "height": 268
        },
        "id": "WIQQ29tkDlrq",
        "outputId": "2526efeb-a298-4948-d3aa-fb5be86eb295"
      },
      "source": [
        "n = 2\n",
        "plt.figure(figsize=(4, 4))\n",
        "for i in range(n):\n",
        "  # display original\n",
        "  ax = plt.subplot(2, n, i + 1)\n",
        "  plt.imshow(x_test[i])\n",
        "  plt.title(\"original\")\n",
        "  plt.gray()\n",
        "  ax.get_xaxis().set_visible(False)\n",
        "  ax.get_yaxis().set_visible(False)\n",
        "\n",
        "  # display reconstruction\n",
        "  ax = plt.subplot(2, n, i + 1 + n)\n",
        "  plt.imshow(decoded_imgs[i])\n",
        "  plt.title(\"reconstructed\")\n",
        "  plt.gray()\n",
        "  ax.get_xaxis().set_visible(False)\n",
        "  ax.get_yaxis().set_visible(False)\n",
        "plt.show()"
      ],
      "execution_count": null,
      "outputs": [
        {
          "output_type": "display_data",
          "data": {
            "image/png": "[encoded data removed]",
            "text/plain": [
              "<Figure size 288x288 with 4 Axes>"
            ]
          },
          "metadata": {
            "tags": [],
            "needs_background": "light"
          }
        }
      ]
    },
    {
      "cell_type": "markdown",
      "metadata": {
        "id": "6mxVZ7w4neXY"
      },
      "source": [
        "### SVM Classifier"
      ]
    },
    {
      "cell_type": "code",
      "metadata": {
        "id": "OiAh5BYdRSVM"
      },
      "source": [
        "train_vectors = autoencoder.encoder(x_train).numpy()\n",
        "test_vectors = autoencoder.encoder(x_test).numpy()"
      ],
      "execution_count": null,
      "outputs": []
    },
    {
      "cell_type": "code",
      "metadata": {
        "colab": {
          "base_uri": "https://localhost:8080/"
        },
        "id": "apAEtL7whrRh",
        "outputId": "0c973ff6-9775-4238-ce8f-ec34333f17d5"
      },
      "source": [
        "from sklearn.model_selection import GridSearchCV\n",
        "from sklearn.svm import SVC\n",
        "clf = SVC()\n",
        "\n",
        "# defining parameter range\n",
        "param_grid = {'C': [0.1, 1, 10, 100], \n",
        "               'kernel': ['linear', 'rbf']} \n",
        "\n",
        "# for test\n",
        "#param_grid = {'C': [0.1], \n",
        "#               'kernel': ['linear']} \n",
        "  \n",
        "grid = GridSearchCV(clf, param_grid, verbose = 1, refit = True)\n",
        "  \n",
        "# fitting the model for grid search\n",
        "grid.fit(train_vectors, y_train)"
      ],
      "execution_count": null,
      "outputs": [
        {
          "output_type": "stream",
          "text": [
            "Fitting 5 folds for each of 1 candidates, totalling 5 fits\n"
          ],
          "name": "stdout"
        },
        {
          "output_type": "stream",
          "text": [
            "[Parallel(n_jobs=1)]: Using backend SequentialBackend with 1 concurrent workers.\n",
            "[Parallel(n_jobs=1)]: Done   5 out of   5 | elapsed:  2.5min finished\n"
          ],
          "name": "stderr"
        },
        {
          "output_type": "execute_result",
          "data": {
            "text/plain": [
              "GridSearchCV(cv=None, error_score=nan,\n",
              "             estimator=SVC(C=1.0, break_ties=False, cache_size=200,\n",
              "                           class_weight=None, coef0=0.0,\n",
              "                           decision_function_shape='ovr', degree=3,\n",
              "                           gamma='scale', kernel='rbf', max_iter=-1,\n",
              "                           probability=False, random_state=None, shrinking=True,\n",
              "                           tol=0.001, verbose=False),\n",
              "             iid='deprecated', n_jobs=None,\n",
              "             param_grid={'C': [0.1], 'kernel': ['linear']},\n",
              "             pre_dispatch='2*n_jobs', refit=True, return_train_score=False,\n",
              "             scoring=None, verbose=1)"
            ]
          },
          "metadata": {
            "tags": []
          },
          "execution_count": 15
        }
      ]
    },
    {
      "cell_type": "code",
      "metadata": {
        "id": "I0hzGg_FRh0d",
        "colab": {
          "base_uri": "https://localhost:8080/"
        },
        "outputId": "bf6ec8f1-aac5-4f0d-e710-0fa2e522a3cc"
      },
      "source": [
        "from sklearn.metrics import classification_report\n",
        "\n",
        "# print best parameter after tuning\n",
        "print(grid.best_params_)\n",
        "# print how our model looks after hyper-parameter tuning\n",
        "print(grid.best_estimator_)\n",
        "\n",
        "grid_predictions = grid.predict(test_vectors)\n",
        "# print classification report\n",
        "print(classification_report(y_test, grid_predictions))"
      ],
      "execution_count": null,
      "outputs": [
        {
          "output_type": "stream",
          "text": [
            "{'C': 0.1, 'kernel': 'linear'}\n",
            "SVC(C=0.1, break_ties=False, cache_size=200, class_weight=None, coef0=0.0,\n",
            "    decision_function_shape='ovr', degree=3, gamma='scale', kernel='linear',\n",
            "    max_iter=-1, probability=False, random_state=None, shrinking=True,\n",
            "    tol=0.001, verbose=False)\n",
            "              precision    recall  f1-score   support\n",
            "\n",
            "           0       0.73      0.83      0.78      1000\n",
            "           1       0.98      0.95      0.97      1000\n",
            "           2       0.71      0.69      0.70      1000\n",
            "           3       0.84      0.86      0.85      1000\n",
            "           4       0.71      0.73      0.72      1000\n",
            "           5       0.94      0.90      0.92      1000\n",
            "           6       0.56      0.48      0.52      1000\n",
            "           7       0.89      0.93      0.91      1000\n",
            "           8       0.94      0.94      0.94      1000\n",
            "           9       0.93      0.93      0.93      1000\n",
            "\n",
            "    accuracy                           0.82     10000\n",
            "   macro avg       0.82      0.82      0.82     10000\n",
            "weighted avg       0.82      0.82      0.82     10000\n",
            "\n"
          ],
          "name": "stdout"
        }
      ]
    },
    {
      "cell_type": "markdown",
      "metadata": {
        "id": "_eCt6Jz_nrpF"
      },
      "source": [
        "# CNN-based Autoencoder"
      ]
    },
    {
      "cell_type": "code",
      "metadata": {
        "id": "IakF9f5rkHSh"
      },
      "source": [
        "class Con_Autoencoder(Model):\n",
        "  def __init__(self):\n",
        "    super(Con_Autoencoder, self).__init__() \n",
        "    self.encoder = tf.keras.Sequential([\n",
        "      layers.Conv2D(16, (3, 3), strides=(1, 1), activation='relu', padding='same'),\n",
        "      layers.Conv2D(8, (3, 3), strides=(1, 1), activation='relu', padding='same'),\n",
        "      layers.MaxPooling2D((2, 2))\n",
        "    ])\n",
        "    self.decoder = tf.keras.Sequential([\n",
        "      layers.Conv2D(8, (3, 3), strides=(1, 1), activation='relu', padding='same'),\n",
        "      layers.Conv2D(16, (3, 3), strides=(1, 1), activation='relu', padding='same'),\n",
        "      layers.UpSampling2D((2, 2)),\n",
        "      #layers.Reshape((28, 28))\n",
        "    ])\n",
        "\n",
        "  def call(self, x):\n",
        "    encoded = self.encoder(x)\n",
        "    decoded = self.decoder(encoded)\n",
        "    return decoded\n",
        "\n",
        "autoencoder = Con_Autoencoder()"
      ],
      "execution_count": null,
      "outputs": []
    },
    {
      "cell_type": "code",
      "metadata": {
        "id": "2J-_mTxsnVzP"
      },
      "source": [
        "autoencoder.compile(optimizer='adam', loss=losses.MeanSquaredError())"
      ],
      "execution_count": null,
      "outputs": []
    },
    {
      "cell_type": "code",
      "metadata": {
        "id": "5L76rQMz3lBn"
      },
      "source": [
        "(x_train, y_train), (x_test, y_test) = fashion_mnist.load_data()\n",
        "\n",
        "x_train = x_train.astype('float32') / 255.\n",
        "x_test = x_test.astype('float32') / 255.\n",
        "\n",
        "\n",
        "x_train = np.reshape(x_train, (len(x_train), 28, 28, 1))\n",
        "x_test = np.reshape(x_test, (len(x_test), 28, 28, 1))\n",
        "print(x_train.shape)\n",
        "print(x_test.shape)"
      ],
      "execution_count": null,
      "outputs": []
    },
    {
      "cell_type": "code",
      "metadata": {
        "id": "NLn-9oF-nX33"
      },
      "source": [
        "autoencoder.fit(x_train, x_train,\n",
        "                batch_size=256,\n",
        "                epochs=15,\n",
        "                shuffle=True,\n",
        "                validation_data=(x_test, x_test))"
      ],
      "execution_count": null,
      "outputs": []
    },
    {
      "cell_type": "code",
      "metadata": {
        "id": "5m-jcuU7n9AB"
      },
      "source": [
        "encoded_imgs = autoencoder.encoder(x_test).numpy()\n",
        "decoded_imgs = autoencoder.decoder(encoded_imgs).numpy()"
      ],
      "execution_count": null,
      "outputs": []
    },
    {
      "cell_type": "code",
      "metadata": {
        "id": "JCkgrIknn_Ld"
      },
      "source": [
        "n = 2\n",
        "plt.figure(figsize=(4, 4))\n",
        "for i in range(n):\n",
        "  # display original\n",
        "  ax = plt.subplot(2, n, i + 1)\n",
        "  plt.imshow(x_test[i][:,:,0])\n",
        "  plt.title(\"original\")\n",
        "  plt.gray()\n",
        "  ax.get_xaxis().set_visible(False)\n",
        "  ax.get_yaxis().set_visible(False)\n",
        "\n",
        "  # display reconstruction\n",
        "  ax = plt.subplot(2, n, i + 1 + n)\n",
        "  plt.imshow(decoded_imgs[i][:,:,0])\n",
        "  plt.title(\"reconstructed\")\n",
        "  plt.gray()\n",
        "  ax.get_xaxis().set_visible(False)\n",
        "  ax.get_yaxis().set_visible(False)\n",
        "plt.show()"
      ],
      "execution_count": null,
      "outputs": []
    }
  ]
}