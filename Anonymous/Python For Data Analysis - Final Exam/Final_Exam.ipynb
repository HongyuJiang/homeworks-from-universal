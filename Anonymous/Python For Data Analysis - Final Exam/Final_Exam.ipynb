{
  "nbformat": 4,
  "nbformat_minor": 5,
  "metadata": {
    "kernelspec": {
      "name": "python37264bit9c2142b364404ec0b6b6d8cbe58c8391",
      "display_name": "Python 3.7.2 64-bit"
    },
    "language_info": {
      "codemirror_mode": {
        "name": "ipython",
        "version": 3
      },
      "file_extension": ".py",
      "mimetype": "text/x-python",
      "name": "python",
      "nbconvert_exporter": "python",
      "pygments_lexer": "ipython3",
      "version": "3.7.2"
    },
    "metadata": {
      "interpreter": {
        "hash": "630d4b9f573d27a9129cdc1c29397431cf07cd1462eed1787825010f828177ed"
      }
    },
    "colab": {
      "name": "Final Exam-updated-2021-04-16.ipynb",
      "provenance": [],
      "collapsed_sections": [],
      "machine_shape": "hm"
    }
  },
  "cells": [
    {
      "cell_type": "markdown",
      "metadata": {
        "id": "et2RWUuzkKph"
      },
      "source": [
        "# Python For Data Analysis - Final Exam\n",
        "\n",
        "## Spring Semester 2021\n",
        "\n",
        "Instructions:\n",
        "- Please do all of your work in this Jupyter Notebook, and submit this as your deliverable to CourseWorks.\n",
        "- No collaboration with your classmates - this is an individual effort.\n",
        "- Do not import any additional packages then what is in the next cell.\n",
        "- You can use any number of cells to answer each question.\n",
        "- Please use comments where applicable and make sure your Notebook runs end-to-end without any issues when you submit it.\n",
        "\n",
        "### Grading Schema\n",
        "\n",
        "- total of **120 points**\n",
        "\n",
        "- 10 points: your Jupyter Notebook runs end-to-end without any exceptions\n",
        "- 5 points: you added appropriate comments where applicable to help the reader understand your throught process\n",
        "- Section 1: 35 points\n",
        "- Section 2: 45 points\n",
        "- Section 3: 25 points\n",
        "- the points for each question are listed at the beginning of the problem statement\n"
      ],
      "id": "et2RWUuzkKph"
    },
    {
      "cell_type": "code",
      "metadata": {
        "id": "3Al8jlH2kKpj"
      },
      "source": [
        "# note these are the packages you will need for this Exam.\n",
        "# you should not import any other packages anywhere\n",
        "import pandas as pd\n",
        "import matplotlib.pyplot as plt"
      ],
      "id": "3Al8jlH2kKpj",
      "execution_count": 1,
      "outputs": []
    },
    {
      "cell_type": "markdown",
      "metadata": {
        "id": "7fjShoTckKpk"
      },
      "source": [
        "***\n",
        "## Section 1\n",
        "\n",
        "For this section you'll be using the NYTimes Covid dataset for US counties, available on GitHub, at this link.\n",
        "\n",
        "```{python}\n",
        "url = 'https://raw.githubusercontent.com/nytimes/covid-19-data/master/us-counties.csv'\n",
        "```\n",
        "Note, some of the counties in the NYTimes datasets are not actual counties. For instance, the counties in New York City are: New York County (Manhattan), Kings County (Brooklyn), Bronx County (The Bronx), Richmond County (Staten Island), and Queens County (Queens). But the NYTimes dataset aggregates these counties into one value referred to as \"New York City\".\n",
        "\n",
        "***\n",
        "### Question 1.1\n",
        "<font color='blue'>[5 points]</font>\n",
        "\n",
        "Use the function `pd.read_csv` pointing to the url above to download the data to a Pandas DataFrame. Name the DataFrame `df`. Display the shape of the DataFrame. \n"
      ],
      "id": "7fjShoTckKpk"
    },
    {
      "cell_type": "code",
      "metadata": {
        "colab": {
          "base_uri": "https://localhost:8080/"
        },
        "id": "ACuwfll9kKpl",
        "outputId": "206a3065-aeb0-49f0-d0aa-ed363ea5d3f4"
      },
      "source": [
        "url = 'https://raw.githubusercontent.com/nytimes/covid-19-data/master/us-counties.csv'\n",
        "import pandas as pd\n",
        "df = pd.read_csv(url)\n",
        "df.shape"
      ],
      "id": "ACuwfll9kKpl",
      "execution_count": 2,
      "outputs": [
        {
          "output_type": "execute_result",
          "data": {
            "text/plain": [
              "(1245060, 6)"
            ]
          },
          "metadata": {
            "tags": []
          },
          "execution_count": 2
        }
      ]
    },
    {
      "cell_type": "markdown",
      "metadata": {
        "id": "ejN5svUykKpl"
      },
      "source": [
        "***\n",
        "### Question 1.2\n",
        "<font color='blue'>[5 points]</font>\n",
        "\n",
        "Use the `tail` function to display the last 3 rows of the DataFrame. \n"
      ],
      "id": "ejN5svUykKpl"
    },
    {
      "cell_type": "code",
      "metadata": {
        "colab": {
          "base_uri": "https://localhost:8080/",
          "height": 136
        },
        "id": "gH5q1MRikKpl",
        "outputId": "7c4a6f82-70d9-4a8c-dcf4-ff21c56cc6ac"
      },
      "source": [
        "df.tail(3)"
      ],
      "id": "gH5q1MRikKpl",
      "execution_count": 3,
      "outputs": [
        {
          "output_type": "execute_result",
          "data": {
            "text/html": [
              "<div>\n",
              "<style scoped>\n",
              "    .dataframe tbody tr th:only-of-type {\n",
              "        vertical-align: middle;\n",
              "    }\n",
              "\n",
              "    .dataframe tbody tr th {\n",
              "        vertical-align: top;\n",
              "    }\n",
              "\n",
              "    .dataframe thead th {\n",
              "        text-align: right;\n",
              "    }\n",
              "</style>\n",
              "<table border=\"1\" class=\"dataframe\">\n",
              "  <thead>\n",
              "    <tr style=\"text-align: right;\">\n",
              "      <th></th>\n",
              "      <th>date</th>\n",
              "      <th>county</th>\n",
              "      <th>state</th>\n",
              "      <th>fips</th>\n",
              "      <th>cases</th>\n",
              "      <th>deaths</th>\n",
              "    </tr>\n",
              "  </thead>\n",
              "  <tbody>\n",
              "    <tr>\n",
              "      <th>1245057</th>\n",
              "      <td>2021-04-21</td>\n",
              "      <td>Uinta</td>\n",
              "      <td>Wyoming</td>\n",
              "      <td>56041.0</td>\n",
              "      <td>2154</td>\n",
              "      <td>12.0</td>\n",
              "    </tr>\n",
              "    <tr>\n",
              "      <th>1245058</th>\n",
              "      <td>2021-04-21</td>\n",
              "      <td>Washakie</td>\n",
              "      <td>Wyoming</td>\n",
              "      <td>56043.0</td>\n",
              "      <td>897</td>\n",
              "      <td>26.0</td>\n",
              "    </tr>\n",
              "    <tr>\n",
              "      <th>1245059</th>\n",
              "      <td>2021-04-21</td>\n",
              "      <td>Weston</td>\n",
              "      <td>Wyoming</td>\n",
              "      <td>56045.0</td>\n",
              "      <td>647</td>\n",
              "      <td>5.0</td>\n",
              "    </tr>\n",
              "  </tbody>\n",
              "</table>\n",
              "</div>"
            ],
            "text/plain": [
              "               date    county    state     fips  cases  deaths\n",
              "1245057  2021-04-21     Uinta  Wyoming  56041.0   2154    12.0\n",
              "1245058  2021-04-21  Washakie  Wyoming  56043.0    897    26.0\n",
              "1245059  2021-04-21    Weston  Wyoming  56045.0    647     5.0"
            ]
          },
          "metadata": {
            "tags": []
          },
          "execution_count": 3
        }
      ]
    },
    {
      "cell_type": "markdown",
      "metadata": {
        "id": "ZpZIu9C2kKpm"
      },
      "source": [
        "***\n",
        "### Question 1.3\n",
        "<font color='blue'>[5 points]</font>\n",
        "\n",
        "Use the `info` function to display information about each column. \n"
      ],
      "id": "ZpZIu9C2kKpm"
    },
    {
      "cell_type": "code",
      "metadata": {
        "colab": {
          "base_uri": "https://localhost:8080/"
        },
        "id": "v7jP04QGkKpm",
        "outputId": "fe4a2d6e-4f22-4d06-fb41-88b796c15581"
      },
      "source": [
        "df.info()"
      ],
      "id": "v7jP04QGkKpm",
      "execution_count": 4,
      "outputs": [
        {
          "output_type": "stream",
          "text": [
            "<class 'pandas.core.frame.DataFrame'>\n",
            "RangeIndex: 1245060 entries, 0 to 1245059\n",
            "Data columns (total 6 columns):\n",
            " #   Column  Non-Null Count    Dtype  \n",
            "---  ------  --------------    -----  \n",
            " 0   date    1245060 non-null  object \n",
            " 1   county  1245060 non-null  object \n",
            " 2   state   1245060 non-null  object \n",
            " 3   fips    1233669 non-null  float64\n",
            " 4   cases   1245060 non-null  int64  \n",
            " 5   deaths  1217641 non-null  float64\n",
            "dtypes: float64(2), int64(1), object(3)\n",
            "memory usage: 57.0+ MB\n"
          ],
          "name": "stdout"
        }
      ]
    },
    {
      "cell_type": "markdown",
      "metadata": {
        "id": "-qSFvwybkKpn"
      },
      "source": [
        "***\n",
        "### Question 1.4\n",
        "<font color='blue'>[10 points]</font>\n",
        "\n",
        "Since you might be working on this dataset at different times, let's filter the dataset by date so that we're all working on the same data. \n",
        "\n",
        "Notice that the `date` column in df is of type string. We will need to convert this column from string to a datetime object. Use the `pd.to_datetime` function to define a new column named `datetime` that stores the date values in datetime format. \n",
        "\n",
        "Filter the DataFrame to store data up to and including `2021-04-10` and print the shape of the new DataFrame. \n"
      ],
      "id": "-qSFvwybkKpn"
    },
    {
      "cell_type": "code",
      "metadata": {
        "colab": {
          "base_uri": "https://localhost:8080/"
        },
        "id": "Trnr89vykKpn",
        "outputId": "144505f7-001e-4092-90ed-596eefb8ed95"
      },
      "source": [
        "df['datetime'] = pd.to_datetime(df['date'])\n",
        "df.info()\n",
        "newdf = df[(df['date'] >= '2020-01-21') & (df['date'] <='2021-04-10')]\n",
        "newdf.shape"
      ],
      "id": "Trnr89vykKpn",
      "execution_count": 5,
      "outputs": [
        {
          "output_type": "stream",
          "text": [
            "<class 'pandas.core.frame.DataFrame'>\n",
            "RangeIndex: 1245060 entries, 0 to 1245059\n",
            "Data columns (total 7 columns):\n",
            " #   Column    Non-Null Count    Dtype         \n",
            "---  ------    --------------    -----         \n",
            " 0   date      1245060 non-null  object        \n",
            " 1   county    1245060 non-null  object        \n",
            " 2   state     1245060 non-null  object        \n",
            " 3   fips      1233669 non-null  float64       \n",
            " 4   cases     1245060 non-null  int64         \n",
            " 5   deaths    1217641 non-null  float64       \n",
            " 6   datetime  1245060 non-null  datetime64[ns]\n",
            "dtypes: datetime64[ns](1), float64(2), int64(1), object(3)\n",
            "memory usage: 66.5+ MB\n"
          ],
          "name": "stdout"
        },
        {
          "output_type": "execute_result",
          "data": {
            "text/plain": [
              "(1209341, 7)"
            ]
          },
          "metadata": {
            "tags": []
          },
          "execution_count": 5
        }
      ]
    },
    {
      "cell_type": "markdown",
      "metadata": {
        "id": "cgDc9uQnkKpo"
      },
      "source": [
        "***\n",
        "### Question 1.5\n",
        "<font color='blue'>[5 points]</font>\n",
        "\n",
        "This question has 2 parts:\n",
        "- Display the top five `states` by number of `cases` on April 10, 2021.\n",
        "- Disllay the top five `states` by number of `deaths` on April 10, 2021.\n",
        "\n",
        "Hint: use the `groupby` function to aggregate the cases and deaths by state ON April 10, 2021. (Note this question is asking for data for ONE day.)\n"
      ],
      "id": "cgDc9uQnkKpo"
    },
    {
      "cell_type": "code",
      "metadata": {
        "colab": {
          "base_uri": "https://localhost:8080/"
        },
        "id": "EZL_4Zk_kKpo",
        "outputId": "44bcccc0-3772-48a7-dae6-87e15a4681e3"
      },
      "source": [
        "date1 = newdf[(newdf['datetime'] =='2021-04-10')]\n",
        "g1 = date1.groupby('state')['cases'].sum()\n",
        "g1.nlargest(5)"
      ],
      "id": "EZL_4Zk_kKpo",
      "execution_count": 6,
      "outputs": [
        {
          "output_type": "execute_result",
          "data": {
            "text/plain": [
              "state\n",
              "California    3696767\n",
              "Texas         2825875\n",
              "Florida       2118705\n",
              "New York      1948232\n",
              "Illinois      1280295\n",
              "Name: cases, dtype: int64"
            ]
          },
          "metadata": {
            "tags": []
          },
          "execution_count": 6
        }
      ]
    },
    {
      "cell_type": "code",
      "metadata": {
        "colab": {
          "base_uri": "https://localhost:8080/"
        },
        "id": "rTYhq6nekKpo",
        "outputId": "a8ecb316-0f6c-446b-bc06-c990ec1ce33c"
      },
      "source": [
        "g2 = date1.groupby('state')['deaths'].sum()\n",
        "g2.nlargest(5)"
      ],
      "id": "rTYhq6nekKpo",
      "execution_count": 7,
      "outputs": [
        {
          "output_type": "execute_result",
          "data": {
            "text/plain": [
              "state\n",
              "California      60334.0\n",
              "New York        50527.0\n",
              "Texas           49345.0\n",
              "Florida         34013.0\n",
              "Pennsylvania    25457.0\n",
              "Name: deaths, dtype: float64"
            ]
          },
          "metadata": {
            "tags": []
          },
          "execution_count": 7
        }
      ]
    },
    {
      "cell_type": "markdown",
      "metadata": {
        "id": "WRwMi1J_kKpp"
      },
      "source": [
        "***\n",
        "### Question 1.6\n",
        " <font color='blue'>[5 points]</font>\n",
        "\n",
        "This question has 2 parts:\n",
        " - On April 10, 2021, what are the top 5 counties in California that had the greatest number of cases?\n",
        " - On April 10, 2021, what are the top 5 counties in California that had the greatest number of deaths?\n",
        "\n",
        "Note, similar to the previous question, here we are asking for data for ONE day."
      ],
      "id": "WRwMi1J_kKpp"
    },
    {
      "cell_type": "code",
      "metadata": {
        "colab": {
          "base_uri": "https://localhost:8080/",
          "height": 1000
        },
        "id": "vvXLHbZBkKpp",
        "outputId": "bae3b40a-f5ec-4fa8-db4a-22e829406f30"
      },
      "source": [
        "newdf2 = df[(df['datetime']=='2021-04-10')&(df['state']=='California')]\n",
        "newdf2"
      ],
      "id": "vvXLHbZBkKpp",
      "execution_count": 8,
      "outputs": [
        {
          "output_type": "execute_result",
          "data": {
            "text/html": [
              "<div>\n",
              "<style scoped>\n",
              "    .dataframe tbody tr th:only-of-type {\n",
              "        vertical-align: middle;\n",
              "    }\n",
              "\n",
              "    .dataframe tbody tr th {\n",
              "        vertical-align: top;\n",
              "    }\n",
              "\n",
              "    .dataframe thead th {\n",
              "        text-align: right;\n",
              "    }\n",
              "</style>\n",
              "<table border=\"1\" class=\"dataframe\">\n",
              "  <thead>\n",
              "    <tr style=\"text-align: right;\">\n",
              "      <th></th>\n",
              "      <th>date</th>\n",
              "      <th>county</th>\n",
              "      <th>state</th>\n",
              "      <th>fips</th>\n",
              "      <th>cases</th>\n",
              "      <th>deaths</th>\n",
              "      <th>datetime</th>\n",
              "    </tr>\n",
              "  </thead>\n",
              "  <tbody>\n",
              "    <tr>\n",
              "      <th>1206280</th>\n",
              "      <td>2021-04-10</td>\n",
              "      <td>Alameda</td>\n",
              "      <td>California</td>\n",
              "      <td>6001.0</td>\n",
              "      <td>84469</td>\n",
              "      <td>1446.0</td>\n",
              "      <td>2021-04-10</td>\n",
              "    </tr>\n",
              "    <tr>\n",
              "      <th>1206281</th>\n",
              "      <td>2021-04-10</td>\n",
              "      <td>Alpine</td>\n",
              "      <td>California</td>\n",
              "      <td>6003.0</td>\n",
              "      <td>85</td>\n",
              "      <td>0.0</td>\n",
              "      <td>2021-04-10</td>\n",
              "    </tr>\n",
              "    <tr>\n",
              "      <th>1206282</th>\n",
              "      <td>2021-04-10</td>\n",
              "      <td>Amador</td>\n",
              "      <td>California</td>\n",
              "      <td>6005.0</td>\n",
              "      <td>3599</td>\n",
              "      <td>46.0</td>\n",
              "      <td>2021-04-10</td>\n",
              "    </tr>\n",
              "    <tr>\n",
              "      <th>1206283</th>\n",
              "      <td>2021-04-10</td>\n",
              "      <td>Butte</td>\n",
              "      <td>California</td>\n",
              "      <td>6007.0</td>\n",
              "      <td>11454</td>\n",
              "      <td>193.0</td>\n",
              "      <td>2021-04-10</td>\n",
              "    </tr>\n",
              "    <tr>\n",
              "      <th>1206284</th>\n",
              "      <td>2021-04-10</td>\n",
              "      <td>Calaveras</td>\n",
              "      <td>California</td>\n",
              "      <td>6009.0</td>\n",
              "      <td>2028</td>\n",
              "      <td>50.0</td>\n",
              "      <td>2021-04-10</td>\n",
              "    </tr>\n",
              "    <tr>\n",
              "      <th>1206285</th>\n",
              "      <td>2021-04-10</td>\n",
              "      <td>Colusa</td>\n",
              "      <td>California</td>\n",
              "      <td>6011.0</td>\n",
              "      <td>2178</td>\n",
              "      <td>16.0</td>\n",
              "      <td>2021-04-10</td>\n",
              "    </tr>\n",
              "    <tr>\n",
              "      <th>1206286</th>\n",
              "      <td>2021-04-10</td>\n",
              "      <td>Contra Costa</td>\n",
              "      <td>California</td>\n",
              "      <td>6013.0</td>\n",
              "      <td>66262</td>\n",
              "      <td>777.0</td>\n",
              "      <td>2021-04-10</td>\n",
              "    </tr>\n",
              "    <tr>\n",
              "      <th>1206287</th>\n",
              "      <td>2021-04-10</td>\n",
              "      <td>Del Norte</td>\n",
              "      <td>California</td>\n",
              "      <td>6015.0</td>\n",
              "      <td>1245</td>\n",
              "      <td>6.0</td>\n",
              "      <td>2021-04-10</td>\n",
              "    </tr>\n",
              "    <tr>\n",
              "      <th>1206288</th>\n",
              "      <td>2021-04-10</td>\n",
              "      <td>El Dorado</td>\n",
              "      <td>California</td>\n",
              "      <td>6017.0</td>\n",
              "      <td>9528</td>\n",
              "      <td>106.0</td>\n",
              "      <td>2021-04-10</td>\n",
              "    </tr>\n",
              "    <tr>\n",
              "      <th>1206289</th>\n",
              "      <td>2021-04-10</td>\n",
              "      <td>Fresno</td>\n",
              "      <td>California</td>\n",
              "      <td>6019.0</td>\n",
              "      <td>100027</td>\n",
              "      <td>1630.0</td>\n",
              "      <td>2021-04-10</td>\n",
              "    </tr>\n",
              "    <tr>\n",
              "      <th>1206290</th>\n",
              "      <td>2021-04-10</td>\n",
              "      <td>Glenn</td>\n",
              "      <td>California</td>\n",
              "      <td>6021.0</td>\n",
              "      <td>2851</td>\n",
              "      <td>25.0</td>\n",
              "      <td>2021-04-10</td>\n",
              "    </tr>\n",
              "    <tr>\n",
              "      <th>1206291</th>\n",
              "      <td>2021-04-10</td>\n",
              "      <td>Humboldt</td>\n",
              "      <td>California</td>\n",
              "      <td>6023.0</td>\n",
              "      <td>3518</td>\n",
              "      <td>36.0</td>\n",
              "      <td>2021-04-10</td>\n",
              "    </tr>\n",
              "    <tr>\n",
              "      <th>1206292</th>\n",
              "      <td>2021-04-10</td>\n",
              "      <td>Imperial</td>\n",
              "      <td>California</td>\n",
              "      <td>6025.0</td>\n",
              "      <td>27764</td>\n",
              "      <td>716.0</td>\n",
              "      <td>2021-04-10</td>\n",
              "    </tr>\n",
              "    <tr>\n",
              "      <th>1206293</th>\n",
              "      <td>2021-04-10</td>\n",
              "      <td>Inyo</td>\n",
              "      <td>California</td>\n",
              "      <td>6027.0</td>\n",
              "      <td>1386</td>\n",
              "      <td>36.0</td>\n",
              "      <td>2021-04-10</td>\n",
              "    </tr>\n",
              "    <tr>\n",
              "      <th>1206294</th>\n",
              "      <td>2021-04-10</td>\n",
              "      <td>Kern</td>\n",
              "      <td>California</td>\n",
              "      <td>6029.0</td>\n",
              "      <td>107172</td>\n",
              "      <td>1304.0</td>\n",
              "      <td>2021-04-10</td>\n",
              "    </tr>\n",
              "    <tr>\n",
              "      <th>1206295</th>\n",
              "      <td>2021-04-10</td>\n",
              "      <td>Kings</td>\n",
              "      <td>California</td>\n",
              "      <td>6031.0</td>\n",
              "      <td>22701</td>\n",
              "      <td>243.0</td>\n",
              "      <td>2021-04-10</td>\n",
              "    </tr>\n",
              "    <tr>\n",
              "      <th>1206296</th>\n",
              "      <td>2021-04-10</td>\n",
              "      <td>Lake</td>\n",
              "      <td>California</td>\n",
              "      <td>6033.0</td>\n",
              "      <td>3362</td>\n",
              "      <td>43.0</td>\n",
              "      <td>2021-04-10</td>\n",
              "    </tr>\n",
              "    <tr>\n",
              "      <th>1206297</th>\n",
              "      <td>2021-04-10</td>\n",
              "      <td>Lassen</td>\n",
              "      <td>California</td>\n",
              "      <td>6035.0</td>\n",
              "      <td>5660</td>\n",
              "      <td>1.0</td>\n",
              "      <td>2021-04-10</td>\n",
              "    </tr>\n",
              "    <tr>\n",
              "      <th>1206298</th>\n",
              "      <td>2021-04-10</td>\n",
              "      <td>Los Angeles</td>\n",
              "      <td>California</td>\n",
              "      <td>6037.0</td>\n",
              "      <td>1225916</td>\n",
              "      <td>23467.0</td>\n",
              "      <td>2021-04-10</td>\n",
              "    </tr>\n",
              "    <tr>\n",
              "      <th>1206299</th>\n",
              "      <td>2021-04-10</td>\n",
              "      <td>Madera</td>\n",
              "      <td>California</td>\n",
              "      <td>6039.0</td>\n",
              "      <td>16118</td>\n",
              "      <td>236.0</td>\n",
              "      <td>2021-04-10</td>\n",
              "    </tr>\n",
              "    <tr>\n",
              "      <th>1206300</th>\n",
              "      <td>2021-04-10</td>\n",
              "      <td>Marin</td>\n",
              "      <td>California</td>\n",
              "      <td>6041.0</td>\n",
              "      <td>13721</td>\n",
              "      <td>226.0</td>\n",
              "      <td>2021-04-10</td>\n",
              "    </tr>\n",
              "    <tr>\n",
              "      <th>1206301</th>\n",
              "      <td>2021-04-10</td>\n",
              "      <td>Mariposa</td>\n",
              "      <td>California</td>\n",
              "      <td>6043.0</td>\n",
              "      <td>415</td>\n",
              "      <td>7.0</td>\n",
              "      <td>2021-04-10</td>\n",
              "    </tr>\n",
              "    <tr>\n",
              "      <th>1206302</th>\n",
              "      <td>2021-04-10</td>\n",
              "      <td>Mendocino</td>\n",
              "      <td>California</td>\n",
              "      <td>6045.0</td>\n",
              "      <td>3966</td>\n",
              "      <td>47.0</td>\n",
              "      <td>2021-04-10</td>\n",
              "    </tr>\n",
              "    <tr>\n",
              "      <th>1206303</th>\n",
              "      <td>2021-04-10</td>\n",
              "      <td>Merced</td>\n",
              "      <td>California</td>\n",
              "      <td>6047.0</td>\n",
              "      <td>31009</td>\n",
              "      <td>448.0</td>\n",
              "      <td>2021-04-10</td>\n",
              "    </tr>\n",
              "    <tr>\n",
              "      <th>1206304</th>\n",
              "      <td>2021-04-10</td>\n",
              "      <td>Modoc</td>\n",
              "      <td>California</td>\n",
              "      <td>6049.0</td>\n",
              "      <td>352</td>\n",
              "      <td>3.0</td>\n",
              "      <td>2021-04-10</td>\n",
              "    </tr>\n",
              "    <tr>\n",
              "      <th>1206305</th>\n",
              "      <td>2021-04-10</td>\n",
              "      <td>Mono</td>\n",
              "      <td>California</td>\n",
              "      <td>6051.0</td>\n",
              "      <td>1247</td>\n",
              "      <td>4.0</td>\n",
              "      <td>2021-04-10</td>\n",
              "    </tr>\n",
              "    <tr>\n",
              "      <th>1206306</th>\n",
              "      <td>2021-04-10</td>\n",
              "      <td>Monterey</td>\n",
              "      <td>California</td>\n",
              "      <td>6053.0</td>\n",
              "      <td>43157</td>\n",
              "      <td>347.0</td>\n",
              "      <td>2021-04-10</td>\n",
              "    </tr>\n",
              "    <tr>\n",
              "      <th>1206307</th>\n",
              "      <td>2021-04-10</td>\n",
              "      <td>Napa</td>\n",
              "      <td>California</td>\n",
              "      <td>6055.0</td>\n",
              "      <td>9575</td>\n",
              "      <td>80.0</td>\n",
              "      <td>2021-04-10</td>\n",
              "    </tr>\n",
              "    <tr>\n",
              "      <th>1206308</th>\n",
              "      <td>2021-04-10</td>\n",
              "      <td>Nevada</td>\n",
              "      <td>California</td>\n",
              "      <td>6057.0</td>\n",
              "      <td>4379</td>\n",
              "      <td>75.0</td>\n",
              "      <td>2021-04-10</td>\n",
              "    </tr>\n",
              "    <tr>\n",
              "      <th>1206309</th>\n",
              "      <td>2021-04-10</td>\n",
              "      <td>Orange</td>\n",
              "      <td>California</td>\n",
              "      <td>6059.0</td>\n",
              "      <td>267957</td>\n",
              "      <td>4831.0</td>\n",
              "      <td>2021-04-10</td>\n",
              "    </tr>\n",
              "    <tr>\n",
              "      <th>1206310</th>\n",
              "      <td>2021-04-10</td>\n",
              "      <td>Placer</td>\n",
              "      <td>California</td>\n",
              "      <td>6061.0</td>\n",
              "      <td>21389</td>\n",
              "      <td>279.0</td>\n",
              "      <td>2021-04-10</td>\n",
              "    </tr>\n",
              "    <tr>\n",
              "      <th>1206311</th>\n",
              "      <td>2021-04-10</td>\n",
              "      <td>Plumas</td>\n",
              "      <td>California</td>\n",
              "      <td>6063.0</td>\n",
              "      <td>666</td>\n",
              "      <td>4.0</td>\n",
              "      <td>2021-04-10</td>\n",
              "    </tr>\n",
              "    <tr>\n",
              "      <th>1206312</th>\n",
              "      <td>2021-04-10</td>\n",
              "      <td>Riverside</td>\n",
              "      <td>California</td>\n",
              "      <td>6065.0</td>\n",
              "      <td>296090</td>\n",
              "      <td>4481.0</td>\n",
              "      <td>2021-04-10</td>\n",
              "    </tr>\n",
              "    <tr>\n",
              "      <th>1206313</th>\n",
              "      <td>2021-04-10</td>\n",
              "      <td>Sacramento</td>\n",
              "      <td>California</td>\n",
              "      <td>6067.0</td>\n",
              "      <td>99721</td>\n",
              "      <td>1638.0</td>\n",
              "      <td>2021-04-10</td>\n",
              "    </tr>\n",
              "    <tr>\n",
              "      <th>1206314</th>\n",
              "      <td>2021-04-10</td>\n",
              "      <td>San Benito</td>\n",
              "      <td>California</td>\n",
              "      <td>6069.0</td>\n",
              "      <td>5925</td>\n",
              "      <td>62.0</td>\n",
              "      <td>2021-04-10</td>\n",
              "    </tr>\n",
              "    <tr>\n",
              "      <th>1206315</th>\n",
              "      <td>2021-04-10</td>\n",
              "      <td>San Bernardino</td>\n",
              "      <td>California</td>\n",
              "      <td>6071.0</td>\n",
              "      <td>292558</td>\n",
              "      <td>4467.0</td>\n",
              "      <td>2021-04-10</td>\n",
              "    </tr>\n",
              "    <tr>\n",
              "      <th>1206316</th>\n",
              "      <td>2021-04-10</td>\n",
              "      <td>San Diego</td>\n",
              "      <td>California</td>\n",
              "      <td>6073.0</td>\n",
              "      <td>272760</td>\n",
              "      <td>3600.0</td>\n",
              "      <td>2021-04-10</td>\n",
              "    </tr>\n",
              "    <tr>\n",
              "      <th>1206317</th>\n",
              "      <td>2021-04-10</td>\n",
              "      <td>San Francisco</td>\n",
              "      <td>California</td>\n",
              "      <td>6075.0</td>\n",
              "      <td>35719</td>\n",
              "      <td>497.0</td>\n",
              "      <td>2021-04-10</td>\n",
              "    </tr>\n",
              "    <tr>\n",
              "      <th>1206318</th>\n",
              "      <td>2021-04-10</td>\n",
              "      <td>San Joaquin</td>\n",
              "      <td>California</td>\n",
              "      <td>6077.0</td>\n",
              "      <td>70746</td>\n",
              "      <td>1328.0</td>\n",
              "      <td>2021-04-10</td>\n",
              "    </tr>\n",
              "    <tr>\n",
              "      <th>1206319</th>\n",
              "      <td>2021-04-10</td>\n",
              "      <td>San Luis Obispo</td>\n",
              "      <td>California</td>\n",
              "      <td>6079.0</td>\n",
              "      <td>20723</td>\n",
              "      <td>256.0</td>\n",
              "      <td>2021-04-10</td>\n",
              "    </tr>\n",
              "    <tr>\n",
              "      <th>1206320</th>\n",
              "      <td>2021-04-10</td>\n",
              "      <td>San Mateo</td>\n",
              "      <td>California</td>\n",
              "      <td>6081.0</td>\n",
              "      <td>40800</td>\n",
              "      <td>556.0</td>\n",
              "      <td>2021-04-10</td>\n",
              "    </tr>\n",
              "    <tr>\n",
              "      <th>1206321</th>\n",
              "      <td>2021-04-10</td>\n",
              "      <td>Santa Barbara</td>\n",
              "      <td>California</td>\n",
              "      <td>6083.0</td>\n",
              "      <td>33655</td>\n",
              "      <td>444.0</td>\n",
              "      <td>2021-04-10</td>\n",
              "    </tr>\n",
              "    <tr>\n",
              "      <th>1206322</th>\n",
              "      <td>2021-04-10</td>\n",
              "      <td>Santa Clara</td>\n",
              "      <td>California</td>\n",
              "      <td>6085.0</td>\n",
              "      <td>116084</td>\n",
              "      <td>1996.0</td>\n",
              "      <td>2021-04-10</td>\n",
              "    </tr>\n",
              "    <tr>\n",
              "      <th>1206323</th>\n",
              "      <td>2021-04-10</td>\n",
              "      <td>Santa Cruz</td>\n",
              "      <td>California</td>\n",
              "      <td>6087.0</td>\n",
              "      <td>15334</td>\n",
              "      <td>203.0</td>\n",
              "      <td>2021-04-10</td>\n",
              "    </tr>\n",
              "    <tr>\n",
              "      <th>1206324</th>\n",
              "      <td>2021-04-10</td>\n",
              "      <td>Shasta</td>\n",
              "      <td>California</td>\n",
              "      <td>6089.0</td>\n",
              "      <td>11509</td>\n",
              "      <td>213.0</td>\n",
              "      <td>2021-04-10</td>\n",
              "    </tr>\n",
              "    <tr>\n",
              "      <th>1206325</th>\n",
              "      <td>2021-04-10</td>\n",
              "      <td>Sierra</td>\n",
              "      <td>California</td>\n",
              "      <td>6091.0</td>\n",
              "      <td>51</td>\n",
              "      <td>0.0</td>\n",
              "      <td>2021-04-10</td>\n",
              "    </tr>\n",
              "    <tr>\n",
              "      <th>1206326</th>\n",
              "      <td>2021-04-10</td>\n",
              "      <td>Siskiyou</td>\n",
              "      <td>California</td>\n",
              "      <td>6093.0</td>\n",
              "      <td>1899</td>\n",
              "      <td>19.0</td>\n",
              "      <td>2021-04-10</td>\n",
              "    </tr>\n",
              "    <tr>\n",
              "      <th>1206327</th>\n",
              "      <td>2021-04-10</td>\n",
              "      <td>Solano</td>\n",
              "      <td>California</td>\n",
              "      <td>6095.0</td>\n",
              "      <td>31532</td>\n",
              "      <td>238.0</td>\n",
              "      <td>2021-04-10</td>\n",
              "    </tr>\n",
              "    <tr>\n",
              "      <th>1206328</th>\n",
              "      <td>2021-04-10</td>\n",
              "      <td>Sonoma</td>\n",
              "      <td>California</td>\n",
              "      <td>6097.0</td>\n",
              "      <td>29501</td>\n",
              "      <td>310.0</td>\n",
              "      <td>2021-04-10</td>\n",
              "    </tr>\n",
              "    <tr>\n",
              "      <th>1206329</th>\n",
              "      <td>2021-04-10</td>\n",
              "      <td>Stanislaus</td>\n",
              "      <td>California</td>\n",
              "      <td>6099.0</td>\n",
              "      <td>59860</td>\n",
              "      <td>1017.0</td>\n",
              "      <td>2021-04-10</td>\n",
              "    </tr>\n",
              "    <tr>\n",
              "      <th>1206330</th>\n",
              "      <td>2021-04-10</td>\n",
              "      <td>Sutter</td>\n",
              "      <td>California</td>\n",
              "      <td>6101.0</td>\n",
              "      <td>9225</td>\n",
              "      <td>106.0</td>\n",
              "      <td>2021-04-10</td>\n",
              "    </tr>\n",
              "    <tr>\n",
              "      <th>1206331</th>\n",
              "      <td>2021-04-10</td>\n",
              "      <td>Tehama</td>\n",
              "      <td>California</td>\n",
              "      <td>6103.0</td>\n",
              "      <td>4806</td>\n",
              "      <td>52.0</td>\n",
              "      <td>2021-04-10</td>\n",
              "    </tr>\n",
              "    <tr>\n",
              "      <th>1206332</th>\n",
              "      <td>2021-04-10</td>\n",
              "      <td>Trinity</td>\n",
              "      <td>California</td>\n",
              "      <td>6105.0</td>\n",
              "      <td>325</td>\n",
              "      <td>3.0</td>\n",
              "      <td>2021-04-10</td>\n",
              "    </tr>\n",
              "    <tr>\n",
              "      <th>1206333</th>\n",
              "      <td>2021-04-10</td>\n",
              "      <td>Tulare</td>\n",
              "      <td>California</td>\n",
              "      <td>6107.0</td>\n",
              "      <td>49231</td>\n",
              "      <td>824.0</td>\n",
              "      <td>2021-04-10</td>\n",
              "    </tr>\n",
              "    <tr>\n",
              "      <th>1206334</th>\n",
              "      <td>2021-04-10</td>\n",
              "      <td>Tuolumne</td>\n",
              "      <td>California</td>\n",
              "      <td>6109.0</td>\n",
              "      <td>4052</td>\n",
              "      <td>64.0</td>\n",
              "      <td>2021-04-10</td>\n",
              "    </tr>\n",
              "    <tr>\n",
              "      <th>1206335</th>\n",
              "      <td>2021-04-10</td>\n",
              "      <td>Ventura</td>\n",
              "      <td>California</td>\n",
              "      <td>6111.0</td>\n",
              "      <td>79963</td>\n",
              "      <td>990.0</td>\n",
              "      <td>2021-04-10</td>\n",
              "    </tr>\n",
              "    <tr>\n",
              "      <th>1206336</th>\n",
              "      <td>2021-04-10</td>\n",
              "      <td>Yolo</td>\n",
              "      <td>California</td>\n",
              "      <td>6113.0</td>\n",
              "      <td>13478</td>\n",
              "      <td>199.0</td>\n",
              "      <td>2021-04-10</td>\n",
              "    </tr>\n",
              "    <tr>\n",
              "      <th>1206337</th>\n",
              "      <td>2021-04-10</td>\n",
              "      <td>Yuba</td>\n",
              "      <td>California</td>\n",
              "      <td>6115.0</td>\n",
              "      <td>6064</td>\n",
              "      <td>43.0</td>\n",
              "      <td>2021-04-10</td>\n",
              "    </tr>\n",
              "  </tbody>\n",
              "</table>\n",
              "</div>"
            ],
            "text/plain": [
              "               date           county       state  ...    cases   deaths   datetime\n",
              "1206280  2021-04-10          Alameda  California  ...    84469   1446.0 2021-04-10\n",
              "1206281  2021-04-10           Alpine  California  ...       85      0.0 2021-04-10\n",
              "1206282  2021-04-10           Amador  California  ...     3599     46.0 2021-04-10\n",
              "1206283  2021-04-10            Butte  California  ...    11454    193.0 2021-04-10\n",
              "1206284  2021-04-10        Calaveras  California  ...     2028     50.0 2021-04-10\n",
              "1206285  2021-04-10           Colusa  California  ...     2178     16.0 2021-04-10\n",
              "1206286  2021-04-10     Contra Costa  California  ...    66262    777.0 2021-04-10\n",
              "1206287  2021-04-10        Del Norte  California  ...     1245      6.0 2021-04-10\n",
              "1206288  2021-04-10        El Dorado  California  ...     9528    106.0 2021-04-10\n",
              "1206289  2021-04-10           Fresno  California  ...   100027   1630.0 2021-04-10\n",
              "1206290  2021-04-10            Glenn  California  ...     2851     25.0 2021-04-10\n",
              "1206291  2021-04-10         Humboldt  California  ...     3518     36.0 2021-04-10\n",
              "1206292  2021-04-10         Imperial  California  ...    27764    716.0 2021-04-10\n",
              "1206293  2021-04-10             Inyo  California  ...     1386     36.0 2021-04-10\n",
              "1206294  2021-04-10             Kern  California  ...   107172   1304.0 2021-04-10\n",
              "1206295  2021-04-10            Kings  California  ...    22701    243.0 2021-04-10\n",
              "1206296  2021-04-10             Lake  California  ...     3362     43.0 2021-04-10\n",
              "1206297  2021-04-10           Lassen  California  ...     5660      1.0 2021-04-10\n",
              "1206298  2021-04-10      Los Angeles  California  ...  1225916  23467.0 2021-04-10\n",
              "1206299  2021-04-10           Madera  California  ...    16118    236.0 2021-04-10\n",
              "1206300  2021-04-10            Marin  California  ...    13721    226.0 2021-04-10\n",
              "1206301  2021-04-10         Mariposa  California  ...      415      7.0 2021-04-10\n",
              "1206302  2021-04-10        Mendocino  California  ...     3966     47.0 2021-04-10\n",
              "1206303  2021-04-10           Merced  California  ...    31009    448.0 2021-04-10\n",
              "1206304  2021-04-10            Modoc  California  ...      352      3.0 2021-04-10\n",
              "1206305  2021-04-10             Mono  California  ...     1247      4.0 2021-04-10\n",
              "1206306  2021-04-10         Monterey  California  ...    43157    347.0 2021-04-10\n",
              "1206307  2021-04-10             Napa  California  ...     9575     80.0 2021-04-10\n",
              "1206308  2021-04-10           Nevada  California  ...     4379     75.0 2021-04-10\n",
              "1206309  2021-04-10           Orange  California  ...   267957   4831.0 2021-04-10\n",
              "1206310  2021-04-10           Placer  California  ...    21389    279.0 2021-04-10\n",
              "1206311  2021-04-10           Plumas  California  ...      666      4.0 2021-04-10\n",
              "1206312  2021-04-10        Riverside  California  ...   296090   4481.0 2021-04-10\n",
              "1206313  2021-04-10       Sacramento  California  ...    99721   1638.0 2021-04-10\n",
              "1206314  2021-04-10       San Benito  California  ...     5925     62.0 2021-04-10\n",
              "1206315  2021-04-10   San Bernardino  California  ...   292558   4467.0 2021-04-10\n",
              "1206316  2021-04-10        San Diego  California  ...   272760   3600.0 2021-04-10\n",
              "1206317  2021-04-10    San Francisco  California  ...    35719    497.0 2021-04-10\n",
              "1206318  2021-04-10      San Joaquin  California  ...    70746   1328.0 2021-04-10\n",
              "1206319  2021-04-10  San Luis Obispo  California  ...    20723    256.0 2021-04-10\n",
              "1206320  2021-04-10        San Mateo  California  ...    40800    556.0 2021-04-10\n",
              "1206321  2021-04-10    Santa Barbara  California  ...    33655    444.0 2021-04-10\n",
              "1206322  2021-04-10      Santa Clara  California  ...   116084   1996.0 2021-04-10\n",
              "1206323  2021-04-10       Santa Cruz  California  ...    15334    203.0 2021-04-10\n",
              "1206324  2021-04-10           Shasta  California  ...    11509    213.0 2021-04-10\n",
              "1206325  2021-04-10           Sierra  California  ...       51      0.0 2021-04-10\n",
              "1206326  2021-04-10         Siskiyou  California  ...     1899     19.0 2021-04-10\n",
              "1206327  2021-04-10           Solano  California  ...    31532    238.0 2021-04-10\n",
              "1206328  2021-04-10           Sonoma  California  ...    29501    310.0 2021-04-10\n",
              "1206329  2021-04-10       Stanislaus  California  ...    59860   1017.0 2021-04-10\n",
              "1206330  2021-04-10           Sutter  California  ...     9225    106.0 2021-04-10\n",
              "1206331  2021-04-10           Tehama  California  ...     4806     52.0 2021-04-10\n",
              "1206332  2021-04-10          Trinity  California  ...      325      3.0 2021-04-10\n",
              "1206333  2021-04-10           Tulare  California  ...    49231    824.0 2021-04-10\n",
              "1206334  2021-04-10         Tuolumne  California  ...     4052     64.0 2021-04-10\n",
              "1206335  2021-04-10          Ventura  California  ...    79963    990.0 2021-04-10\n",
              "1206336  2021-04-10             Yolo  California  ...    13478    199.0 2021-04-10\n",
              "1206337  2021-04-10             Yuba  California  ...     6064     43.0 2021-04-10\n",
              "\n",
              "[58 rows x 7 columns]"
            ]
          },
          "metadata": {
            "tags": []
          },
          "execution_count": 8
        }
      ]
    },
    {
      "cell_type": "code",
      "metadata": {
        "colab": {
          "base_uri": "https://localhost:8080/"
        },
        "id": "nztN_k02kKpp",
        "outputId": "1df12d0b-8fde-4775-e008-b2401fef7d5f"
      },
      "source": [
        "g3 = newdf2.groupby('county')['cases'].sum()\n",
        "g3.nlargest(5)"
      ],
      "id": "nztN_k02kKpp",
      "execution_count": 9,
      "outputs": [
        {
          "output_type": "execute_result",
          "data": {
            "text/plain": [
              "county\n",
              "Los Angeles       1225916\n",
              "Riverside          296090\n",
              "San Bernardino     292558\n",
              "San Diego          272760\n",
              "Orange             267957\n",
              "Name: cases, dtype: int64"
            ]
          },
          "metadata": {
            "tags": []
          },
          "execution_count": 9
        }
      ]
    },
    {
      "cell_type": "code",
      "metadata": {
        "colab": {
          "base_uri": "https://localhost:8080/"
        },
        "id": "SWF1zvhrkKpq",
        "outputId": "be362dc4-3c0b-4027-eee5-9f36bacf12f9"
      },
      "source": [
        "g4 = newdf2.groupby('county')['deaths'].sum()\n",
        "g4.nlargest(5)"
      ],
      "id": "SWF1zvhrkKpq",
      "execution_count": 10,
      "outputs": [
        {
          "output_type": "execute_result",
          "data": {
            "text/plain": [
              "county\n",
              "Los Angeles       23467.0\n",
              "Orange             4831.0\n",
              "Riverside          4481.0\n",
              "San Bernardino     4467.0\n",
              "San Diego          3600.0\n",
              "Name: deaths, dtype: float64"
            ]
          },
          "metadata": {
            "tags": []
          },
          "execution_count": 10
        }
      ]
    },
    {
      "cell_type": "markdown",
      "metadata": {
        "id": "Y9qnpVf6kKpq"
      },
      "source": [
        "***\n",
        "## Section 2\n",
        "\n",
        "For this section, you will be using US Census data stored in the `county_2019_population.csv` file. The ultimate goal is to join this dataset to the Covid dataset.\n",
        "\n",
        "Download the csv file from Courseworks and store it locally on your laptop.\n",
        "\n",
        "***\n",
        "### Question 2.1\n",
        "<font color='blue'>[5 points]</font>\n",
        "\n",
        "Use the `pd.read_csv` function to load the csv file into memory. Name the DataFrame `pop`. Print the `shape` of the `pop` DataFrame.\n"
      ],
      "id": "Y9qnpVf6kKpq"
    },
    {
      "cell_type": "code",
      "metadata": {
        "colab": {
          "base_uri": "https://localhost:8080/"
        },
        "id": "WXpmbdnOkKpq",
        "outputId": "adaadf43-5f36-462e-a6ed-c3328eaf16a0"
      },
      "source": [
        "pop = pd.read_csv('https://raw.githubusercontent.com/HongyuJiang/homeworks-from-universal/main/county_2019_population.csv')\n",
        "pop.shape"
      ],
      "id": "WXpmbdnOkKpq",
      "execution_count": 11,
      "outputs": [
        {
          "output_type": "execute_result",
          "data": {
            "text/plain": [
              "(3148, 2)"
            ]
          },
          "metadata": {
            "tags": []
          },
          "execution_count": 11
        }
      ]
    },
    {
      "cell_type": "markdown",
      "metadata": {
        "id": "jNNa91mxkKpq"
      },
      "source": [
        "***\n",
        "### Question 2.2\n",
        "<font color='blue'>[5 points]</font>\n",
        "\n",
        "Use the `sample` function to display 10 random rows.\n"
      ],
      "id": "jNNa91mxkKpq"
    },
    {
      "cell_type": "code",
      "metadata": {
        "colab": {
          "base_uri": "https://localhost:8080/",
          "height": 343
        },
        "id": "2-JcdxAdkKpq",
        "outputId": "adef8f22-2bc6-45cb-9946-d8eab1aa07b4"
      },
      "source": [
        "pop.sample(10)"
      ],
      "id": "2-JcdxAdkKpq",
      "execution_count": 12,
      "outputs": [
        {
          "output_type": "execute_result",
          "data": {
            "text/html": [
              "<div>\n",
              "<style scoped>\n",
              "    .dataframe tbody tr th:only-of-type {\n",
              "        vertical-align: middle;\n",
              "    }\n",
              "\n",
              "    .dataframe tbody tr th {\n",
              "        vertical-align: top;\n",
              "    }\n",
              "\n",
              "    .dataframe thead th {\n",
              "        text-align: right;\n",
              "    }\n",
              "</style>\n",
              "<table border=\"1\" class=\"dataframe\">\n",
              "  <thead>\n",
              "    <tr style=\"text-align: right;\">\n",
              "      <th></th>\n",
              "      <th>Geographic Area</th>\n",
              "      <th>Estimated Population 2019</th>\n",
              "    </tr>\n",
              "  </thead>\n",
              "  <tbody>\n",
              "    <tr>\n",
              "      <th>1523</th>\n",
              "      <td>.Harrison County, Missouri</td>\n",
              "      <td>8,352</td>\n",
              "    </tr>\n",
              "    <tr>\n",
              "      <th>2010</th>\n",
              "      <td>.Hettinger County, North Dakota</td>\n",
              "      <td>2,499</td>\n",
              "    </tr>\n",
              "    <tr>\n",
              "      <th>992</th>\n",
              "      <td>.Wyandotte County, Kansas</td>\n",
              "      <td>165,429</td>\n",
              "    </tr>\n",
              "    <tr>\n",
              "      <th>3049</th>\n",
              "      <td>.Barron County, Wisconsin</td>\n",
              "      <td>45,244</td>\n",
              "    </tr>\n",
              "    <tr>\n",
              "      <th>568</th>\n",
              "      <td>.Clearwater County, Idaho</td>\n",
              "      <td>8,756</td>\n",
              "    </tr>\n",
              "    <tr>\n",
              "      <th>2701</th>\n",
              "      <td>.Ochiltree County, Texas</td>\n",
              "      <td>9,836</td>\n",
              "    </tr>\n",
              "    <tr>\n",
              "      <th>647</th>\n",
              "      <td>.Livingston County, Illinois</td>\n",
              "      <td>35,648</td>\n",
              "    </tr>\n",
              "    <tr>\n",
              "      <th>2004</th>\n",
              "      <td>.Emmons County, North Dakota</td>\n",
              "      <td>3,241</td>\n",
              "    </tr>\n",
              "    <tr>\n",
              "      <th>1147</th>\n",
              "      <td>.Natchitoches Parish, Louisiana</td>\n",
              "      <td>38,158</td>\n",
              "    </tr>\n",
              "    <tr>\n",
              "      <th>2683</th>\n",
              "      <td>.Matagorda County, Texas</td>\n",
              "      <td>36,643</td>\n",
              "    </tr>\n",
              "  </tbody>\n",
              "</table>\n",
              "</div>"
            ],
            "text/plain": [
              "                      Geographic Area Estimated Population 2019\n",
              "1523       .Harrison County, Missouri                     8,352\n",
              "2010  .Hettinger County, North Dakota                     2,499\n",
              "992         .Wyandotte County, Kansas                   165,429\n",
              "3049        .Barron County, Wisconsin                    45,244\n",
              "568         .Clearwater County, Idaho                     8,756\n",
              "2701         .Ochiltree County, Texas                     9,836\n",
              "647      .Livingston County, Illinois                    35,648\n",
              "2004     .Emmons County, North Dakota                     3,241\n",
              "1147  .Natchitoches Parish, Louisiana                    38,158\n",
              "2683         .Matagorda County, Texas                    36,643"
            ]
          },
          "metadata": {
            "tags": []
          },
          "execution_count": 12
        }
      ]
    },
    {
      "cell_type": "markdown",
      "metadata": {
        "id": "oQyxa0t8kKpr"
      },
      "source": [
        "***\n",
        "### Question 2.3\n",
        "<font color='blue'>[5 points]</font>\n",
        "\n",
        "Rename the columns from:\n",
        "```\n",
        "Geographic Area -> geographic_area\n",
        "Estimated Population 2019 -> estimated_population_2019\n",
        "```\n",
        "Use the `rename` function using the argument `inplace=True`. Display or print the new columns in `pop`.\n"
      ],
      "id": "oQyxa0t8kKpr"
    },
    {
      "cell_type": "code",
      "metadata": {
        "colab": {
          "base_uri": "https://localhost:8080/"
        },
        "id": "kNVsDc7kkKpr",
        "outputId": "8e46d66d-988f-42c1-b535-521328387e14"
      },
      "source": [
        "pop.rename(columns={'Geographic Area':'geographic_area','Estimated Population 2019':'estimated_population_2019'},inplace = True)\n",
        "pop.columns"
      ],
      "id": "kNVsDc7kkKpr",
      "execution_count": 13,
      "outputs": [
        {
          "output_type": "execute_result",
          "data": {
            "text/plain": [
              "Index(['geographic_area', 'estimated_population_2019'], dtype='object')"
            ]
          },
          "metadata": {
            "tags": []
          },
          "execution_count": 13
        }
      ]
    },
    {
      "cell_type": "markdown",
      "metadata": {
        "id": "DaAgubIykKpr"
      },
      "source": [
        "***\n",
        "### Question 2.4\n",
        "<font color='blue'>[5 points]</font>\n",
        "\n",
        "If you run `pop.tail(10)`, you'll notice that the last 6 rows of the DataFrame contain footnotes.\n",
        "\n",
        "Remove the last 6 rows of the DataFrame to remove these footnotes. After removing the rows, print or display the last row of the DataFrame. "
      ],
      "id": "DaAgubIykKpr"
    },
    {
      "cell_type": "code",
      "metadata": {
        "colab": {
          "base_uri": "https://localhost:8080/",
          "height": 77
        },
        "id": "X3vWf2pskKpr",
        "outputId": "58a391bd-8587-4ab6-a2bc-3e247c0c96b2"
      },
      "source": [
        "pop = pop[:-6]\n",
        "# Use the tail function to display the last 6 rows of the pop Dataframe\n",
        "pop.tail(1)"
      ],
      "id": "X3vWf2pskKpr",
      "execution_count": 14,
      "outputs": [
        {
          "output_type": "execute_result",
          "data": {
            "text/html": [
              "<div>\n",
              "<style scoped>\n",
              "    .dataframe tbody tr th:only-of-type {\n",
              "        vertical-align: middle;\n",
              "    }\n",
              "\n",
              "    .dataframe tbody tr th {\n",
              "        vertical-align: top;\n",
              "    }\n",
              "\n",
              "    .dataframe thead th {\n",
              "        text-align: right;\n",
              "    }\n",
              "</style>\n",
              "<table border=\"1\" class=\"dataframe\">\n",
              "  <thead>\n",
              "    <tr style=\"text-align: right;\">\n",
              "      <th></th>\n",
              "      <th>geographic_area</th>\n",
              "      <th>estimated_population_2019</th>\n",
              "    </tr>\n",
              "  </thead>\n",
              "  <tbody>\n",
              "    <tr>\n",
              "      <th>3141</th>\n",
              "      <td>.Weston County, Wyoming</td>\n",
              "      <td>6,927</td>\n",
              "    </tr>\n",
              "  </tbody>\n",
              "</table>\n",
              "</div>"
            ],
            "text/plain": [
              "              geographic_area estimated_population_2019\n",
              "3141  .Weston County, Wyoming                     6,927"
            ]
          },
          "metadata": {
            "tags": []
          },
          "execution_count": 14
        }
      ]
    },
    {
      "cell_type": "markdown",
      "metadata": {
        "id": "-UXnwgaxkKps"
      },
      "source": [
        "***\n",
        "### Question 2.5\n",
        "<font color='blue'>[15 points]</font>\n",
        "\n",
        "<font color='blue'> **edit:** In this question, we are going to clean up the value of the geographic_area column. You may notice from looking at the data that the values include the word \"County\". This is true for the majority of the rows, but not all of the rows. For instance, some of the rows have the words \"Municipality\" instead of \"County\". Below, let's remove the word County if it exists in a cell, and do nothing to the cell if County does not exist. </font>\n",
        "\n",
        "The `geographic_area` column stores both the county name and state name, and it contains some superflous characters: a leading dot, the word \"County\", and some extra blank spaces.\n",
        "\n",
        "This question has several parts:\n",
        "1. define a new column named \"county\" that stores the county only\n",
        "2. define a new column named \"state\" that stores the state only\n",
        "3. define a new column named \"population\" that stores the value in `estimated_population_2019` as an integer\n",
        "\n",
        "Hints: for (1) and (2), use the `pd.Series.str` methods to do the cleaning up of the strings. Note that you can chain a sequence of these commands together. Use the `map` or `apply` method in combination with the `split` method to split these strings up into two columns, \"county\" and \"state\".\n",
        "\n",
        "Hint: for (3), you could use one of the methods in `pd.Series.str` to remove the comma and then convert the string to an integer.\n",
        "\n",
        "To give you an idea of what you are working towards, here is what the first 3 rows of your DataFrame should look like:\n",
        "\n",
        "|    | geographic_area   | estimated_population_2019   | county   | state   |   population |\n",
        "|---:|:------------------|:----------------------------|:---------|:--------|-------------:|\n",
        "|  0 | Autauga, Alabama  | 55,869                      | Autauga  | Alabama |        55869 |\n",
        "|  1 | Baldwin, Alabama  | 223,234                     | Baldwin  | Alabama |       223234 |\n",
        "|  2 | Barbour, Alabama  | 24,686                      | Barbour  | Alabama |        24686 |\n",
        "|  3 | Bibb, Alabama     | 22,394                      | Bibb     | Alabama |        22394 |\n"
      ],
      "id": "-UXnwgaxkKps"
    },
    {
      "cell_type": "code",
      "metadata": {
        "id": "MycEn0h05-91"
      },
      "source": [
        "pop[\"geographic_area\"]=pop[\"geographic_area\"].apply(lambda x:x.replace(' County','').replace('.',''))"
      ],
      "id": "MycEn0h05-91",
      "execution_count": 15,
      "outputs": []
    },
    {
      "cell_type": "code",
      "metadata": {
        "id": "bi0ZAQEykKps"
      },
      "source": [
        "pop[\"county\"]=pop[\"geographic_area\"].apply(lambda x:x.split(',')[0])"
      ],
      "id": "bi0ZAQEykKps",
      "execution_count": 16,
      "outputs": []
    },
    {
      "cell_type": "code",
      "metadata": {
        "id": "QjeQHnZHkKpt"
      },
      "source": [
        "pop[\"state\"]=pop[\"geographic_area\"].apply(lambda x:x.split(',')[1][1:])"
      ],
      "id": "QjeQHnZHkKpt",
      "execution_count": 17,
      "outputs": []
    },
    {
      "cell_type": "code",
      "metadata": {
        "id": "57Q246KZlntQ"
      },
      "source": [
        "pop[\"population\"]=pop[\"estimated_population_2019\"].apply(lambda x:int(x.replace(',','')))"
      ],
      "id": "57Q246KZlntQ",
      "execution_count": 18,
      "outputs": []
    },
    {
      "cell_type": "code",
      "metadata": {
        "colab": {
          "base_uri": "https://localhost:8080/",
          "height": 195
        },
        "id": "hvJOdAUKmNZh",
        "outputId": "8026a4e8-a76a-4926-f73a-0d60d56448aa"
      },
      "source": [
        "pop.head()"
      ],
      "id": "hvJOdAUKmNZh",
      "execution_count": 19,
      "outputs": [
        {
          "output_type": "execute_result",
          "data": {
            "text/html": [
              "<div>\n",
              "<style scoped>\n",
              "    .dataframe tbody tr th:only-of-type {\n",
              "        vertical-align: middle;\n",
              "    }\n",
              "\n",
              "    .dataframe tbody tr th {\n",
              "        vertical-align: top;\n",
              "    }\n",
              "\n",
              "    .dataframe thead th {\n",
              "        text-align: right;\n",
              "    }\n",
              "</style>\n",
              "<table border=\"1\" class=\"dataframe\">\n",
              "  <thead>\n",
              "    <tr style=\"text-align: right;\">\n",
              "      <th></th>\n",
              "      <th>geographic_area</th>\n",
              "      <th>estimated_population_2019</th>\n",
              "      <th>county</th>\n",
              "      <th>state</th>\n",
              "      <th>population</th>\n",
              "    </tr>\n",
              "  </thead>\n",
              "  <tbody>\n",
              "    <tr>\n",
              "      <th>0</th>\n",
              "      <td>Autauga, Alabama</td>\n",
              "      <td>55,869</td>\n",
              "      <td>Autauga</td>\n",
              "      <td>Alabama</td>\n",
              "      <td>55869</td>\n",
              "    </tr>\n",
              "    <tr>\n",
              "      <th>1</th>\n",
              "      <td>Baldwin, Alabama</td>\n",
              "      <td>223,234</td>\n",
              "      <td>Baldwin</td>\n",
              "      <td>Alabama</td>\n",
              "      <td>223234</td>\n",
              "    </tr>\n",
              "    <tr>\n",
              "      <th>2</th>\n",
              "      <td>Barbour, Alabama</td>\n",
              "      <td>24,686</td>\n",
              "      <td>Barbour</td>\n",
              "      <td>Alabama</td>\n",
              "      <td>24686</td>\n",
              "    </tr>\n",
              "    <tr>\n",
              "      <th>3</th>\n",
              "      <td>Bibb, Alabama</td>\n",
              "      <td>22,394</td>\n",
              "      <td>Bibb</td>\n",
              "      <td>Alabama</td>\n",
              "      <td>22394</td>\n",
              "    </tr>\n",
              "    <tr>\n",
              "      <th>4</th>\n",
              "      <td>Blount, Alabama</td>\n",
              "      <td>57,826</td>\n",
              "      <td>Blount</td>\n",
              "      <td>Alabama</td>\n",
              "      <td>57826</td>\n",
              "    </tr>\n",
              "  </tbody>\n",
              "</table>\n",
              "</div>"
            ],
            "text/plain": [
              "    geographic_area estimated_population_2019   county    state  population\n",
              "0  Autauga, Alabama                    55,869  Autauga  Alabama       55869\n",
              "1  Baldwin, Alabama                   223,234  Baldwin  Alabama      223234\n",
              "2  Barbour, Alabama                    24,686  Barbour  Alabama       24686\n",
              "3     Bibb, Alabama                    22,394     Bibb  Alabama       22394\n",
              "4   Blount, Alabama                    57,826   Blount  Alabama       57826"
            ]
          },
          "metadata": {
            "tags": []
          },
          "execution_count": 19
        }
      ]
    },
    {
      "cell_type": "code",
      "metadata": {
        "id": "oanaWxKX_bp3"
      },
      "source": [
        "# New York have different alias in two dataset, should be unified\n",
        "pop['county'] = pop['county'].replace(['New York'], 'New York City')"
      ],
      "id": "oanaWxKX_bp3",
      "execution_count": 20,
      "outputs": []
    },
    {
      "cell_type": "markdown",
      "metadata": {
        "id": "zBO19pYXkKpt"
      },
      "source": [
        "***\n",
        "### Question 2.6\n",
        "<font color='blue'>[10 points]</font>\n",
        "\n",
        "Excluding the District of Columbia, aggregate the dataset by state and compute the following:\n",
        "1. the number of counties\n",
        "2. minimum population\n",
        "3. maximum population\n",
        "4. median population\n",
        "\n",
        "Store the results in a new DataFrame named `pop_aggs`. Sort `pop_aggs` in descending order by median county population.\n",
        "\n",
        "Display the first 5 rows. \n",
        "\n",
        "Here are the top 3:\n",
        "\n",
        "\n",
        "|    | state         |   count |   min_pop |   max_pop |   median_pop |\n",
        "|---:|:--------------|--------:|----------:|----------:|-------------:|\n",
        "|  0 | Massachusetts |      14 |     11399 |   1611699 |       493787 |\n",
        "|  1 | New Jersey    |      21 |     62385 |    932202 |       445349 |\n",
        "|  2 | Delaware      |       3 |    180786 |    558753 |       234225 |\n"
      ],
      "id": "zBO19pYXkKpt"
    },
    {
      "cell_type": "code",
      "metadata": {
        "id": "lplVKl7MkKpt"
      },
      "source": [
        "pop_aggs = pop[['state', 'county', 'population']].groupby(['state']).agg(['count', 'min', 'max', 'median']).reset_index(level='state')"
      ],
      "id": "lplVKl7MkKpt",
      "execution_count": 21,
      "outputs": []
    },
    {
      "cell_type": "code",
      "metadata": {
        "id": "MFcB6DZYxPFH"
      },
      "source": [
        "pop_aggs.columns = ['state', 'count', 'min_pop', 'max_pop', 'median_pop']"
      ],
      "id": "MFcB6DZYxPFH",
      "execution_count": 22,
      "outputs": []
    },
    {
      "cell_type": "code",
      "metadata": {
        "id": "vtIpTyubsk9G"
      },
      "source": [
        "pop_aggs['median_pop'] = pop_aggs['median_pop'].apply(lambda x:int(x))"
      ],
      "id": "vtIpTyubsk9G",
      "execution_count": 23,
      "outputs": []
    },
    {
      "cell_type": "code",
      "metadata": {
        "id": "_Cwle4Z6JZGA"
      },
      "source": [
        "pop_aggs = pop_aggs[pop_aggs['state'] != 'District of Columbia']"
      ],
      "id": "_Cwle4Z6JZGA",
      "execution_count": 24,
      "outputs": []
    },
    {
      "cell_type": "code",
      "metadata": {
        "id": "IswOIVkXIHu0"
      },
      "source": [
        "pop_aggs = pop_aggs.sort_values(by='median_pop', ascending=False).head(5)"
      ],
      "id": "IswOIVkXIHu0",
      "execution_count": 25,
      "outputs": []
    },
    {
      "cell_type": "code",
      "metadata": {
        "id": "rtj0Byt41cq0"
      },
      "source": [
        "pop_aggs = pop_aggs.reset_index(drop=True)"
      ],
      "id": "rtj0Byt41cq0",
      "execution_count": 26,
      "outputs": []
    },
    {
      "cell_type": "code",
      "metadata": {
        "colab": {
          "base_uri": "https://localhost:8080/",
          "height": 195
        },
        "id": "ey1Kh6Zm1g0D",
        "outputId": "9b6c90e9-9e22-4c27-e05c-fa1c34ea24e2"
      },
      "source": [
        "pop_aggs.head()"
      ],
      "id": "ey1Kh6Zm1g0D",
      "execution_count": 27,
      "outputs": [
        {
          "output_type": "execute_result",
          "data": {
            "text/html": [
              "<div>\n",
              "<style scoped>\n",
              "    .dataframe tbody tr th:only-of-type {\n",
              "        vertical-align: middle;\n",
              "    }\n",
              "\n",
              "    .dataframe tbody tr th {\n",
              "        vertical-align: top;\n",
              "    }\n",
              "\n",
              "    .dataframe thead th {\n",
              "        text-align: right;\n",
              "    }\n",
              "</style>\n",
              "<table border=\"1\" class=\"dataframe\">\n",
              "  <thead>\n",
              "    <tr style=\"text-align: right;\">\n",
              "      <th></th>\n",
              "      <th>state</th>\n",
              "      <th>count</th>\n",
              "      <th>min_pop</th>\n",
              "      <th>max_pop</th>\n",
              "      <th>median_pop</th>\n",
              "    </tr>\n",
              "  </thead>\n",
              "  <tbody>\n",
              "    <tr>\n",
              "      <th>0</th>\n",
              "      <td>Massachusetts</td>\n",
              "      <td>14</td>\n",
              "      <td>11399</td>\n",
              "      <td>1611699</td>\n",
              "      <td>493787</td>\n",
              "    </tr>\n",
              "    <tr>\n",
              "      <th>1</th>\n",
              "      <td>New Jersey</td>\n",
              "      <td>21</td>\n",
              "      <td>62385</td>\n",
              "      <td>932202</td>\n",
              "      <td>445349</td>\n",
              "    </tr>\n",
              "    <tr>\n",
              "      <th>2</th>\n",
              "      <td>Delaware</td>\n",
              "      <td>3</td>\n",
              "      <td>180786</td>\n",
              "      <td>558753</td>\n",
              "      <td>234225</td>\n",
              "    </tr>\n",
              "    <tr>\n",
              "      <th>3</th>\n",
              "      <td>Connecticut</td>\n",
              "      <td>8</td>\n",
              "      <td>116782</td>\n",
              "      <td>943332</td>\n",
              "      <td>222769</td>\n",
              "    </tr>\n",
              "    <tr>\n",
              "      <th>4</th>\n",
              "      <td>California</td>\n",
              "      <td>58</td>\n",
              "      <td>1129</td>\n",
              "      <td>10039107</td>\n",
              "      <td>187029</td>\n",
              "    </tr>\n",
              "  </tbody>\n",
              "</table>\n",
              "</div>"
            ],
            "text/plain": [
              "           state  count  min_pop   max_pop  median_pop\n",
              "0  Massachusetts     14    11399   1611699      493787\n",
              "1     New Jersey     21    62385    932202      445349\n",
              "2       Delaware      3   180786    558753      234225\n",
              "3    Connecticut      8   116782    943332      222769\n",
              "4     California     58     1129  10039107      187029"
            ]
          },
          "metadata": {
            "tags": []
          },
          "execution_count": 27
        }
      ]
    },
    {
      "cell_type": "markdown",
      "metadata": {
        "id": "g9v0bXiCkKpu"
      },
      "source": [
        "***\n",
        "## Section 3\n",
        "\n",
        "In this section we will be joining the population data to the Covid data."
      ],
      "id": "g9v0bXiCkKpu"
    },
    {
      "cell_type": "markdown",
      "metadata": {
        "id": "vuZNo1M3kKpu"
      },
      "source": [
        "*** \n",
        "### Question 3.1\n",
        "<font color='blue'>[5 points]</font>\n",
        "\n",
        "<font color='blue'> **edit:** Use `pd.merge` to join the population dataset to the Covid DataFrame. (Use the Covid DataFrame you obtained in question 1.4 and the population DataFrame you obtained in question 2.5).  </font>\n",
        "\n",
        "In the merge, set the left dataset to the Covid DataFrame and set the right dataset to the population DataFrame. \n",
        "\n",
        "Use a **left join**. \n",
        "\n",
        "Join on two keys: state and county. \n",
        "\n",
        "Name the merged dataset `join1`. Display the shape of `join1`. What do you notice about the dimensions of `join1` compared to `df`"
      ],
      "id": "vuZNo1M3kKpu"
    },
    {
      "cell_type": "code",
      "metadata": {
        "colab": {
          "base_uri": "https://localhost:8080/"
        },
        "id": "rCYNkt4dkKpu",
        "outputId": "ce17ed25-a875-44a8-a724-7d4c6f5c8351"
      },
      "source": [
        "covid_df = newdf\n",
        "# merge the two datasets with left join\n",
        "join1 = pd.merge(pop, covid_df, how='left', on=[\"state\", \"county\"])\n",
        "join1.shape"
      ],
      "id": "rCYNkt4dkKpu",
      "execution_count": 28,
      "outputs": [
        {
          "output_type": "execute_result",
          "data": {
            "text/plain": [
              "(1137971, 10)"
            ]
          },
          "metadata": {
            "tags": []
          },
          "execution_count": 28
        }
      ]
    },
    {
      "cell_type": "code",
      "metadata": {
        "colab": {
          "base_uri": "https://localhost:8080/",
          "height": 195
        },
        "id": "eOXd5w77wOWt",
        "outputId": "7ad9888d-e386-457b-9f00-47d74dd9a215"
      },
      "source": [
        "join1.head()"
      ],
      "id": "eOXd5w77wOWt",
      "execution_count": 29,
      "outputs": [
        {
          "output_type": "execute_result",
          "data": {
            "text/html": [
              "<div>\n",
              "<style scoped>\n",
              "    .dataframe tbody tr th:only-of-type {\n",
              "        vertical-align: middle;\n",
              "    }\n",
              "\n",
              "    .dataframe tbody tr th {\n",
              "        vertical-align: top;\n",
              "    }\n",
              "\n",
              "    .dataframe thead th {\n",
              "        text-align: right;\n",
              "    }\n",
              "</style>\n",
              "<table border=\"1\" class=\"dataframe\">\n",
              "  <thead>\n",
              "    <tr style=\"text-align: right;\">\n",
              "      <th></th>\n",
              "      <th>geographic_area</th>\n",
              "      <th>estimated_population_2019</th>\n",
              "      <th>county</th>\n",
              "      <th>state</th>\n",
              "      <th>population</th>\n",
              "      <th>date</th>\n",
              "      <th>fips</th>\n",
              "      <th>cases</th>\n",
              "      <th>deaths</th>\n",
              "      <th>datetime</th>\n",
              "    </tr>\n",
              "  </thead>\n",
              "  <tbody>\n",
              "    <tr>\n",
              "      <th>0</th>\n",
              "      <td>Autauga, Alabama</td>\n",
              "      <td>55,869</td>\n",
              "      <td>Autauga</td>\n",
              "      <td>Alabama</td>\n",
              "      <td>55869</td>\n",
              "      <td>2020-03-24</td>\n",
              "      <td>1001.0</td>\n",
              "      <td>1.0</td>\n",
              "      <td>0.0</td>\n",
              "      <td>2020-03-24</td>\n",
              "    </tr>\n",
              "    <tr>\n",
              "      <th>1</th>\n",
              "      <td>Autauga, Alabama</td>\n",
              "      <td>55,869</td>\n",
              "      <td>Autauga</td>\n",
              "      <td>Alabama</td>\n",
              "      <td>55869</td>\n",
              "      <td>2020-03-25</td>\n",
              "      <td>1001.0</td>\n",
              "      <td>4.0</td>\n",
              "      <td>0.0</td>\n",
              "      <td>2020-03-25</td>\n",
              "    </tr>\n",
              "    <tr>\n",
              "      <th>2</th>\n",
              "      <td>Autauga, Alabama</td>\n",
              "      <td>55,869</td>\n",
              "      <td>Autauga</td>\n",
              "      <td>Alabama</td>\n",
              "      <td>55869</td>\n",
              "      <td>2020-03-26</td>\n",
              "      <td>1001.0</td>\n",
              "      <td>6.0</td>\n",
              "      <td>0.0</td>\n",
              "      <td>2020-03-26</td>\n",
              "    </tr>\n",
              "    <tr>\n",
              "      <th>3</th>\n",
              "      <td>Autauga, Alabama</td>\n",
              "      <td>55,869</td>\n",
              "      <td>Autauga</td>\n",
              "      <td>Alabama</td>\n",
              "      <td>55869</td>\n",
              "      <td>2020-03-27</td>\n",
              "      <td>1001.0</td>\n",
              "      <td>6.0</td>\n",
              "      <td>0.0</td>\n",
              "      <td>2020-03-27</td>\n",
              "    </tr>\n",
              "    <tr>\n",
              "      <th>4</th>\n",
              "      <td>Autauga, Alabama</td>\n",
              "      <td>55,869</td>\n",
              "      <td>Autauga</td>\n",
              "      <td>Alabama</td>\n",
              "      <td>55869</td>\n",
              "      <td>2020-03-28</td>\n",
              "      <td>1001.0</td>\n",
              "      <td>6.0</td>\n",
              "      <td>0.0</td>\n",
              "      <td>2020-03-28</td>\n",
              "    </tr>\n",
              "  </tbody>\n",
              "</table>\n",
              "</div>"
            ],
            "text/plain": [
              "    geographic_area estimated_population_2019  ... deaths   datetime\n",
              "0  Autauga, Alabama                    55,869  ...    0.0 2020-03-24\n",
              "1  Autauga, Alabama                    55,869  ...    0.0 2020-03-25\n",
              "2  Autauga, Alabama                    55,869  ...    0.0 2020-03-26\n",
              "3  Autauga, Alabama                    55,869  ...    0.0 2020-03-27\n",
              "4  Autauga, Alabama                    55,869  ...    0.0 2020-03-28\n",
              "\n",
              "[5 rows x 10 columns]"
            ]
          },
          "metadata": {
            "tags": []
          },
          "execution_count": 29
        }
      ]
    },
    {
      "cell_type": "markdown",
      "metadata": {
        "id": "lPAnuEdwkKpv"
      },
      "source": [
        "***\n",
        "### Question 3.2\n",
        "<font color='blue'>[5 points]</font>\n",
        "\n",
        "Let's clean this up a bit. Remove all columns except for:\n",
        "- datetime\n",
        "- county\n",
        "- state\n",
        "- cases\n",
        "- deaths\n",
        "- population\n",
        "\n",
        "Note, please sort the columns in the order listed above.\n",
        "\n",
        "Display the row in your result that corresponds to:\n",
        "- date: March 15, 2021,\n",
        "- counties: Los Angeles AND San Francisco\n",
        "- state: California\n",
        "\n",
        "Display the row in your result that corresponds to:\n",
        "- date: March 15, 2021,\n",
        "- county: New York City\n",
        "- state: New York\n",
        "\n",
        "What do you notice about this last record for New York City?"
      ],
      "id": "lPAnuEdwkKpv"
    },
    {
      "cell_type": "code",
      "metadata": {
        "colab": {
          "base_uri": "https://localhost:8080/",
          "height": 195
        },
        "id": "9AsU_HvbkKpv",
        "outputId": "18a1e4e0-ba88-4225-8167-2519fb53daf6"
      },
      "source": [
        "# remove useless columns\n",
        "join1 = join1.drop(columns=['geographic_area','estimated_population_2019', 'fips'])\n",
        "join1.head()"
      ],
      "id": "9AsU_HvbkKpv",
      "execution_count": 30,
      "outputs": [
        {
          "output_type": "execute_result",
          "data": {
            "text/html": [
              "<div>\n",
              "<style scoped>\n",
              "    .dataframe tbody tr th:only-of-type {\n",
              "        vertical-align: middle;\n",
              "    }\n",
              "\n",
              "    .dataframe tbody tr th {\n",
              "        vertical-align: top;\n",
              "    }\n",
              "\n",
              "    .dataframe thead th {\n",
              "        text-align: right;\n",
              "    }\n",
              "</style>\n",
              "<table border=\"1\" class=\"dataframe\">\n",
              "  <thead>\n",
              "    <tr style=\"text-align: right;\">\n",
              "      <th></th>\n",
              "      <th>county</th>\n",
              "      <th>state</th>\n",
              "      <th>population</th>\n",
              "      <th>date</th>\n",
              "      <th>cases</th>\n",
              "      <th>deaths</th>\n",
              "      <th>datetime</th>\n",
              "    </tr>\n",
              "  </thead>\n",
              "  <tbody>\n",
              "    <tr>\n",
              "      <th>0</th>\n",
              "      <td>Autauga</td>\n",
              "      <td>Alabama</td>\n",
              "      <td>55869</td>\n",
              "      <td>2020-03-24</td>\n",
              "      <td>1.0</td>\n",
              "      <td>0.0</td>\n",
              "      <td>2020-03-24</td>\n",
              "    </tr>\n",
              "    <tr>\n",
              "      <th>1</th>\n",
              "      <td>Autauga</td>\n",
              "      <td>Alabama</td>\n",
              "      <td>55869</td>\n",
              "      <td>2020-03-25</td>\n",
              "      <td>4.0</td>\n",
              "      <td>0.0</td>\n",
              "      <td>2020-03-25</td>\n",
              "    </tr>\n",
              "    <tr>\n",
              "      <th>2</th>\n",
              "      <td>Autauga</td>\n",
              "      <td>Alabama</td>\n",
              "      <td>55869</td>\n",
              "      <td>2020-03-26</td>\n",
              "      <td>6.0</td>\n",
              "      <td>0.0</td>\n",
              "      <td>2020-03-26</td>\n",
              "    </tr>\n",
              "    <tr>\n",
              "      <th>3</th>\n",
              "      <td>Autauga</td>\n",
              "      <td>Alabama</td>\n",
              "      <td>55869</td>\n",
              "      <td>2020-03-27</td>\n",
              "      <td>6.0</td>\n",
              "      <td>0.0</td>\n",
              "      <td>2020-03-27</td>\n",
              "    </tr>\n",
              "    <tr>\n",
              "      <th>4</th>\n",
              "      <td>Autauga</td>\n",
              "      <td>Alabama</td>\n",
              "      <td>55869</td>\n",
              "      <td>2020-03-28</td>\n",
              "      <td>6.0</td>\n",
              "      <td>0.0</td>\n",
              "      <td>2020-03-28</td>\n",
              "    </tr>\n",
              "  </tbody>\n",
              "</table>\n",
              "</div>"
            ],
            "text/plain": [
              "    county    state  population        date  cases  deaths   datetime\n",
              "0  Autauga  Alabama       55869  2020-03-24    1.0     0.0 2020-03-24\n",
              "1  Autauga  Alabama       55869  2020-03-25    4.0     0.0 2020-03-25\n",
              "2  Autauga  Alabama       55869  2020-03-26    6.0     0.0 2020-03-26\n",
              "3  Autauga  Alabama       55869  2020-03-27    6.0     0.0 2020-03-27\n",
              "4  Autauga  Alabama       55869  2020-03-28    6.0     0.0 2020-03-28"
            ]
          },
          "metadata": {
            "tags": []
          },
          "execution_count": 30
        }
      ]
    },
    {
      "cell_type": "code",
      "metadata": {
        "colab": {
          "base_uri": "https://localhost:8080/",
          "height": 402
        },
        "id": "1DJAJH0_kKpv",
        "outputId": "b665b893-5569-4b4d-9d62-f097572b02a8"
      },
      "source": [
        "# sort the dataframe\n",
        "join1.sort_values(['datetime', 'county', 'state', 'cases', 'deaths', 'population'])"
      ],
      "id": "1DJAJH0_kKpv",
      "execution_count": 31,
      "outputs": [
        {
          "output_type": "execute_result",
          "data": {
            "text/html": [
              "<div>\n",
              "<style scoped>\n",
              "    .dataframe tbody tr th:only-of-type {\n",
              "        vertical-align: middle;\n",
              "    }\n",
              "\n",
              "    .dataframe tbody tr th {\n",
              "        vertical-align: top;\n",
              "    }\n",
              "\n",
              "    .dataframe thead th {\n",
              "        text-align: right;\n",
              "    }\n",
              "</style>\n",
              "<table border=\"1\" class=\"dataframe\">\n",
              "  <thead>\n",
              "    <tr style=\"text-align: right;\">\n",
              "      <th></th>\n",
              "      <th>county</th>\n",
              "      <th>state</th>\n",
              "      <th>population</th>\n",
              "      <th>date</th>\n",
              "      <th>cases</th>\n",
              "      <th>deaths</th>\n",
              "      <th>datetime</th>\n",
              "    </tr>\n",
              "  </thead>\n",
              "  <tbody>\n",
              "    <tr>\n",
              "      <th>1078559</th>\n",
              "      <td>Snohomish</td>\n",
              "      <td>Washington</td>\n",
              "      <td>822083</td>\n",
              "      <td>2020-01-21</td>\n",
              "      <td>1.0</td>\n",
              "      <td>0.0</td>\n",
              "      <td>2020-01-21</td>\n",
              "    </tr>\n",
              "    <tr>\n",
              "      <th>1078560</th>\n",
              "      <td>Snohomish</td>\n",
              "      <td>Washington</td>\n",
              "      <td>822083</td>\n",
              "      <td>2020-01-22</td>\n",
              "      <td>1.0</td>\n",
              "      <td>0.0</td>\n",
              "      <td>2020-01-22</td>\n",
              "    </tr>\n",
              "    <tr>\n",
              "      <th>1078561</th>\n",
              "      <td>Snohomish</td>\n",
              "      <td>Washington</td>\n",
              "      <td>822083</td>\n",
              "      <td>2020-01-23</td>\n",
              "      <td>1.0</td>\n",
              "      <td>0.0</td>\n",
              "      <td>2020-01-23</td>\n",
              "    </tr>\n",
              "    <tr>\n",
              "      <th>227499</th>\n",
              "      <td>Cook</td>\n",
              "      <td>Illinois</td>\n",
              "      <td>5150233</td>\n",
              "      <td>2020-01-24</td>\n",
              "      <td>1.0</td>\n",
              "      <td>0.0</td>\n",
              "      <td>2020-01-24</td>\n",
              "    </tr>\n",
              "    <tr>\n",
              "      <th>1078562</th>\n",
              "      <td>Snohomish</td>\n",
              "      <td>Washington</td>\n",
              "      <td>822083</td>\n",
              "      <td>2020-01-24</td>\n",
              "      <td>1.0</td>\n",
              "      <td>0.0</td>\n",
              "      <td>2020-01-24</td>\n",
              "    </tr>\n",
              "    <tr>\n",
              "      <th>...</th>\n",
              "      <td>...</td>\n",
              "      <td>...</td>\n",
              "      <td>...</td>\n",
              "      <td>...</td>\n",
              "      <td>...</td>\n",
              "      <td>...</td>\n",
              "      <td>...</td>\n",
              "    </tr>\n",
              "    <tr>\n",
              "      <th>413630</th>\n",
              "      <td>West Baton Rouge Parish</td>\n",
              "      <td>Louisiana</td>\n",
              "      <td>26465</td>\n",
              "      <td>NaN</td>\n",
              "      <td>NaN</td>\n",
              "      <td>NaN</td>\n",
              "      <td>NaT</td>\n",
              "    </tr>\n",
              "    <tr>\n",
              "      <th>413631</th>\n",
              "      <td>West Carroll Parish</td>\n",
              "      <td>Louisiana</td>\n",
              "      <td>10830</td>\n",
              "      <td>NaN</td>\n",
              "      <td>NaN</td>\n",
              "      <td>NaN</td>\n",
              "      <td>NaT</td>\n",
              "    </tr>\n",
              "    <tr>\n",
              "      <th>413632</th>\n",
              "      <td>West Feliciana Parish</td>\n",
              "      <td>Louisiana</td>\n",
              "      <td>15568</td>\n",
              "      <td>NaN</td>\n",
              "      <td>NaN</td>\n",
              "      <td>NaN</td>\n",
              "      <td>NaT</td>\n",
              "    </tr>\n",
              "    <tr>\n",
              "      <th>413633</th>\n",
              "      <td>Winn Parish</td>\n",
              "      <td>Louisiana</td>\n",
              "      <td>13904</td>\n",
              "      <td>NaN</td>\n",
              "      <td>NaN</td>\n",
              "      <td>NaN</td>\n",
              "      <td>NaT</td>\n",
              "    </tr>\n",
              "    <tr>\n",
              "      <th>33024</th>\n",
              "      <td>Yakutat City and Borough</td>\n",
              "      <td>Alaska</td>\n",
              "      <td>579</td>\n",
              "      <td>NaN</td>\n",
              "      <td>NaN</td>\n",
              "      <td>NaN</td>\n",
              "      <td>NaT</td>\n",
              "    </tr>\n",
              "  </tbody>\n",
              "</table>\n",
              "<p>1137971 rows × 7 columns</p>\n",
              "</div>"
            ],
            "text/plain": [
              "                           county       state  ...  deaths   datetime\n",
              "1078559                 Snohomish  Washington  ...     0.0 2020-01-21\n",
              "1078560                 Snohomish  Washington  ...     0.0 2020-01-22\n",
              "1078561                 Snohomish  Washington  ...     0.0 2020-01-23\n",
              "227499                       Cook    Illinois  ...     0.0 2020-01-24\n",
              "1078562                 Snohomish  Washington  ...     0.0 2020-01-24\n",
              "...                           ...         ...  ...     ...        ...\n",
              "413630    West Baton Rouge Parish   Louisiana  ...     NaN        NaT\n",
              "413631        West Carroll Parish   Louisiana  ...     NaN        NaT\n",
              "413632      West Feliciana Parish   Louisiana  ...     NaN        NaT\n",
              "413633                Winn Parish   Louisiana  ...     NaN        NaT\n",
              "33024    Yakutat City and Borough      Alaska  ...     NaN        NaT\n",
              "\n",
              "[1137971 rows x 7 columns]"
            ]
          },
          "metadata": {
            "tags": []
          },
          "execution_count": 31
        }
      ]
    },
    {
      "cell_type": "code",
      "metadata": {
        "colab": {
          "base_uri": "https://localhost:8080/",
          "height": 106
        },
        "id": "a7KfYkeRyxHU",
        "outputId": "6821ed75-e3df-42a9-f2d6-1ae1b7e139ba"
      },
      "source": [
        "# filter the data\n",
        "join1[(join1['date'] == '2021-03-15') & (join1['state'] == 'California') & ((join1['county'] == 'Los Angeles') | (join1['county'] == 'San Francisco'))]"
      ],
      "id": "a7KfYkeRyxHU",
      "execution_count": 32,
      "outputs": [
        {
          "output_type": "execute_result",
          "data": {
            "text/html": [
              "<div>\n",
              "<style scoped>\n",
              "    .dataframe tbody tr th:only-of-type {\n",
              "        vertical-align: middle;\n",
              "    }\n",
              "\n",
              "    .dataframe tbody tr th {\n",
              "        vertical-align: top;\n",
              "    }\n",
              "\n",
              "    .dataframe thead th {\n",
              "        text-align: right;\n",
              "    }\n",
              "</style>\n",
              "<table border=\"1\" class=\"dataframe\">\n",
              "  <thead>\n",
              "    <tr style=\"text-align: right;\">\n",
              "      <th></th>\n",
              "      <th>county</th>\n",
              "      <th>state</th>\n",
              "      <th>population</th>\n",
              "      <th>date</th>\n",
              "      <th>cases</th>\n",
              "      <th>deaths</th>\n",
              "      <th>datetime</th>\n",
              "    </tr>\n",
              "  </thead>\n",
              "  <tbody>\n",
              "    <tr>\n",
              "      <th>74609</th>\n",
              "      <td>Los Angeles</td>\n",
              "      <td>California</td>\n",
              "      <td>10039107</td>\n",
              "      <td>2021-03-15</td>\n",
              "      <td>1211319.0</td>\n",
              "      <td>22476.0</td>\n",
              "      <td>2021-03-15</td>\n",
              "    </tr>\n",
              "    <tr>\n",
              "      <th>82053</th>\n",
              "      <td>San Francisco</td>\n",
              "      <td>California</td>\n",
              "      <td>881549</td>\n",
              "      <td>2021-03-15</td>\n",
              "      <td>34813.0</td>\n",
              "      <td>455.0</td>\n",
              "      <td>2021-03-15</td>\n",
              "    </tr>\n",
              "  </tbody>\n",
              "</table>\n",
              "</div>"
            ],
            "text/plain": [
              "              county       state  population  ...      cases   deaths   datetime\n",
              "74609    Los Angeles  California    10039107  ...  1211319.0  22476.0 2021-03-15\n",
              "82053  San Francisco  California      881549  ...    34813.0    455.0 2021-03-15\n",
              "\n",
              "[2 rows x 7 columns]"
            ]
          },
          "metadata": {
            "tags": []
          },
          "execution_count": 32
        }
      ]
    },
    {
      "cell_type": "code",
      "metadata": {
        "colab": {
          "base_uri": "https://localhost:8080/",
          "height": 77
        },
        "id": "2WupiqbR1JL1",
        "outputId": "113d3252-c042-4f58-ef05-88ae99dd7215"
      },
      "source": [
        "# filter the data\n",
        "join1[(join1['date'] == '2021-03-15') & (join1['state'] == 'New York') & (join1['county'] == 'New York City')]"
      ],
      "id": "2WupiqbR1JL1",
      "execution_count": 33,
      "outputs": [
        {
          "output_type": "execute_result",
          "data": {
            "text/html": [
              "<div>\n",
              "<style scoped>\n",
              "    .dataframe tbody tr th:only-of-type {\n",
              "        vertical-align: middle;\n",
              "    }\n",
              "\n",
              "    .dataframe tbody tr th {\n",
              "        vertical-align: top;\n",
              "    }\n",
              "\n",
              "    .dataframe thead th {\n",
              "        text-align: right;\n",
              "    }\n",
              "</style>\n",
              "<table border=\"1\" class=\"dataframe\">\n",
              "  <thead>\n",
              "    <tr style=\"text-align: right;\">\n",
              "      <th></th>\n",
              "      <th>county</th>\n",
              "      <th>state</th>\n",
              "      <th>population</th>\n",
              "      <th>date</th>\n",
              "      <th>cases</th>\n",
              "      <th>deaths</th>\n",
              "      <th>datetime</th>\n",
              "    </tr>\n",
              "  </thead>\n",
              "  <tbody>\n",
              "    <tr>\n",
              "      <th>660096</th>\n",
              "      <td>New York City</td>\n",
              "      <td>New York</td>\n",
              "      <td>1628706</td>\n",
              "      <td>2021-03-15</td>\n",
              "      <td>781734.0</td>\n",
              "      <td>30303.0</td>\n",
              "      <td>2021-03-15</td>\n",
              "    </tr>\n",
              "  </tbody>\n",
              "</table>\n",
              "</div>"
            ],
            "text/plain": [
              "               county     state  population  ...     cases   deaths   datetime\n",
              "660096  New York City  New York     1628706  ...  781734.0  30303.0 2021-03-15\n",
              "\n",
              "[1 rows x 7 columns]"
            ]
          },
          "metadata": {
            "tags": []
          },
          "execution_count": 33
        }
      ]
    },
    {
      "cell_type": "markdown",
      "metadata": {
        "id": "kMmiiB1gkKpv"
      },
      "source": [
        "***\n",
        "### Question 3.3\n",
        "\n",
        "<font color='blue'>[5 points]</font>\n",
        "\n",
        "Calculate three new columns in `join1`:\n",
        "- population / 100000 -> name this `population100`\n",
        "- cases/population100 -> name this `cases_normalized`\n",
        "- deaths/population100 -> name this `deaths_normalized`\n",
        "\n",
        "Display the row in your result that corresponds to:\n",
        "- date: March 15, 2021,\n",
        "- counties: Los Angeles AND San Francisco\n",
        "- state: California\n"
      ],
      "id": "kMmiiB1gkKpv"
    },
    {
      "cell_type": "code",
      "metadata": {
        "id": "A98yxJZYkKpw"
      },
      "source": [
        "join1['population100'] = join1['population'] / 100000\n",
        "join1['cases_normalized'] = join1['cases'] / join1['population100']\n",
        "join1['deaths_normalized'] = join1['deaths'] / join1['population100']"
      ],
      "id": "A98yxJZYkKpw",
      "execution_count": 34,
      "outputs": []
    },
    {
      "cell_type": "code",
      "metadata": {
        "colab": {
          "base_uri": "https://localhost:8080/",
          "height": 106
        },
        "id": "qUE83JgkLcsT",
        "outputId": "89cd6eea-7383-44df-e25b-20381b1e61fb"
      },
      "source": [
        "join1[(join1['date'] == '2021-03-15') & (join1['state'] == 'California') & ((join1['county'] == 'Los Angeles') | (join1['county'] == 'San Francisco'))]"
      ],
      "id": "qUE83JgkLcsT",
      "execution_count": 35,
      "outputs": [
        {
          "output_type": "execute_result",
          "data": {
            "text/html": [
              "<div>\n",
              "<style scoped>\n",
              "    .dataframe tbody tr th:only-of-type {\n",
              "        vertical-align: middle;\n",
              "    }\n",
              "\n",
              "    .dataframe tbody tr th {\n",
              "        vertical-align: top;\n",
              "    }\n",
              "\n",
              "    .dataframe thead th {\n",
              "        text-align: right;\n",
              "    }\n",
              "</style>\n",
              "<table border=\"1\" class=\"dataframe\">\n",
              "  <thead>\n",
              "    <tr style=\"text-align: right;\">\n",
              "      <th></th>\n",
              "      <th>county</th>\n",
              "      <th>state</th>\n",
              "      <th>population</th>\n",
              "      <th>date</th>\n",
              "      <th>cases</th>\n",
              "      <th>deaths</th>\n",
              "      <th>datetime</th>\n",
              "      <th>population100</th>\n",
              "      <th>cases_normalized</th>\n",
              "      <th>deaths_normalized</th>\n",
              "    </tr>\n",
              "  </thead>\n",
              "  <tbody>\n",
              "    <tr>\n",
              "      <th>74609</th>\n",
              "      <td>Los Angeles</td>\n",
              "      <td>California</td>\n",
              "      <td>10039107</td>\n",
              "      <td>2021-03-15</td>\n",
              "      <td>1211319.0</td>\n",
              "      <td>22476.0</td>\n",
              "      <td>2021-03-15</td>\n",
              "      <td>100.39107</td>\n",
              "      <td>12066.003480</td>\n",
              "      <td>223.884455</td>\n",
              "    </tr>\n",
              "    <tr>\n",
              "      <th>82053</th>\n",
              "      <td>San Francisco</td>\n",
              "      <td>California</td>\n",
              "      <td>881549</td>\n",
              "      <td>2021-03-15</td>\n",
              "      <td>34813.0</td>\n",
              "      <td>455.0</td>\n",
              "      <td>2021-03-15</td>\n",
              "      <td>8.81549</td>\n",
              "      <td>3949.071464</td>\n",
              "      <td>51.613694</td>\n",
              "    </tr>\n",
              "  </tbody>\n",
              "</table>\n",
              "</div>"
            ],
            "text/plain": [
              "              county       state  ...  cases_normalized deaths_normalized\n",
              "74609    Los Angeles  California  ...      12066.003480        223.884455\n",
              "82053  San Francisco  California  ...       3949.071464         51.613694\n",
              "\n",
              "[2 rows x 10 columns]"
            ]
          },
          "metadata": {
            "tags": []
          },
          "execution_count": 35
        }
      ]
    },
    {
      "cell_type": "markdown",
      "metadata": {
        "id": "D6x4zRZxkKpw"
      },
      "source": [
        "***\n",
        "### Question 3.4\n",
        "\n",
        "Let's create a scatter plot using matploblib.\n",
        "\n",
        "For these state/county pairs:\n",
        "```\n",
        "[\n",
        "    ('California', 'Los Angeles'),\n",
        "    ('California', 'San Francisco'),\n",
        "    ('Texas', 'Harris'),\n",
        "    ('Florida', 'Miami-Dade'),\n",
        "]\n",
        "```\n",
        "\n",
        "Plot a scatter plot using matplotlib of the normalized cases in one subplot and the normalized deaths in another subplot.\n",
        "\n",
        "Your image should look like the one below:\n",
        "\n",
        "\n",
        "![title](final_exam.png)\n",
        "\n"
      ],
      "id": "D6x4zRZxkKpw"
    },
    {
      "cell_type": "code",
      "metadata": {
        "id": "jec-70wtkKpw"
      },
      "source": [
        "# filter the data accroding to different states\n",
        "ca_df = join1[(join1['state'] == 'California') & ((join1['county'] == 'Los Angeles') | (join1['county'] == 'San Francisco'))]\n",
        "te_df = join1[(join1['state'] == 'Texas') & (join1['county'] == 'Harris')]\n",
        "flo_df = join1[(join1['state'] == 'Florida') & (join1['county'] == 'Miami-Dade')]\n",
        "\n",
        "# concat them into one dataframe\n",
        "plot_df = pd.concat([ca_df, te_df, flo_df], axis=0)"
      ],
      "id": "jec-70wtkKpw",
      "execution_count": 36,
      "outputs": []
    },
    {
      "cell_type": "code",
      "metadata": {
        "colab": {
          "base_uri": "https://localhost:8080/",
          "height": 484
        },
        "id": "hZTWVROXkKpw",
        "outputId": "fa2e4a05-e31c-4865-c2b1-c9c17827e850"
      },
      "source": [
        "# create plot data to show the trend of normalized cases\n",
        "import matplotlib.pyplot as plt \n",
        "import matplotlib.dates as mdates\n",
        "import matplotlib.ticker as ticker\n",
        "import numpy as np\n",
        "\n",
        "fig, axes = plt.subplots(nrows=2, ncols=1, figsize=(10, 8))\n",
        "case_df = plot_df.pivot(index='datetime', columns='county', values='cases_normalized')\n",
        "\n",
        "case_df.plot(ax=axes[0])\n",
        "ticklabels = [item.strftime('%Y-%m') for item in case_df.index]\n",
        "ticklabels = list(set(ticklabels))\n",
        "ticklabels.sort()\n",
        "ticklabels = ticklabels[2::2] + ['2021-05']\n",
        "\n",
        "\n",
        "axes[0].xaxis.set_major_locator(mdates.MonthLocator(interval=2))\n",
        "axes[0].xaxis.set_major_formatter(ticker.FixedFormatter(ticklabels))\n",
        "axes[0].set_xlabel('')\n",
        "axes[0].set_ylabel('Case per 100k')\n",
        "axes[0].grid()\n",
        "axes[0].legend()\n",
        "axes[0].autoscale(True)\n",
        "\n",
        "# create plot data to show the trend of normalized deaths\n",
        "death_df = plot_df.pivot(index='datetime', columns='county', values='deaths_normalized')\n",
        "death_df.plot(ax=axes[1])\n",
        "axes[1].xaxis.set_major_locator(mdates.MonthLocator(interval=2))\n",
        "axes[1].xaxis.set_major_formatter(ticker.FixedFormatter(ticklabels))\n",
        "axes[1].set_xlabel('')\n",
        "axes[1].set_ylabel('Death per 100k')\n",
        "axes[1].grid()\n",
        "axes[1].legend()\n",
        "axes[1].autoscale(True)\n",
        "\n",
        "plt.show()"
      ],
      "id": "hZTWVROXkKpw",
      "execution_count": 86,
      "outputs": [
        {
          "output_type": "display_data",
          "data": {
            "image/png": "[encoded data removed]",
            "text/plain": [
              "<Figure size 720x576 with 2 Axes>"
            ]
          },
          "metadata": {
            "tags": [],
            "needs_background": "light"
          }
        }
      ]
    }
  ]
}